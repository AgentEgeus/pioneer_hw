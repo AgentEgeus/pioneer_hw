{
 "cells": [
  {
   "cell_type": "markdown",
   "id": "af5801e5-d210-46c0-a9d3-337d27cb87b3",
   "metadata": {},
   "source": [
    "Here's the double-pendulum simulation, in case you want to play with it: \n",
    "\n",
    "https://colab.research.google.com/drive/1gw356V-8X-w4OveUuqyg2FfDkp3Xarep?usp=sharing \n",
    "\n",
    "and the Veritasium video about Euler-Lagrange: https://www.youtube.com/watch?v=Q10_srZ-pbs \n",
    "\n",
    "Bonus:\n",
    "\n",
    " - Modify your rk4 program to study the driven pendulum with friction. Plot phase space for various parameters and look for attractors.\n",
    "\n",
    " - 15.3: bifurcation of the vibrating pivot pendulum\n",
    "\n",
    " - Solve the double-pendulum and study bifurcation vs. mass of upper pendulum (keeping lower mass fixed)\n",
    "\n",
    " - Start two pendulums just slightly apart and see how fast their trajectories diverge (measures the Lyuponav exponent)\n",
    "\n",
    " - Also make plot like https://commons.wikimedia.org/wiki/File:Double_pendulum_flips_graph.png by seeing how long it takes before a pendulum \"flips over\""
   ]
  },
  {
   "cell_type": "code",
   "execution_count": null,
   "id": "37376631-cf20-4a0b-8ae5-8b9ec6c134a9",
   "metadata": {},
   "outputs": [],
   "source": []
  },
  {
   "cell_type": "code",
   "execution_count": null,
   "id": "e43426e8-7490-46a6-9324-bd6599866365",
   "metadata": {},
   "outputs": [],
   "source": []
  },
  {
   "cell_type": "code",
   "execution_count": null,
   "id": "a84fde10-a435-47c4-8719-f69086b74064",
   "metadata": {},
   "outputs": [],
   "source": []
  }
 ],
 "metadata": {
  "kernelspec": {
   "display_name": "Python 3 (ipykernel)",
   "language": "python",
   "name": "python3"
  },
  "language_info": {
   "codemirror_mode": {
    "name": "ipython",
    "version": 3
   },
   "file_extension": ".py",
   "mimetype": "text/x-python",
   "name": "python",
   "nbconvert_exporter": "python",
   "pygments_lexer": "ipython3",
   "version": "3.12.7"
  }
 },
 "nbformat": 4,
 "nbformat_minor": 5
}
