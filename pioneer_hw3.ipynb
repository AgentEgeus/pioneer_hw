{
 "cells": [
  {
   "cell_type": "code",
   "execution_count": 5,
   "id": "ac5e8b06-4f54-4897-bf5c-4e42febd3912",
   "metadata": {
    "execution": {
     "iopub.execute_input": "2025-06-24T13:18:20.600357Z",
     "iopub.status.busy": "2025-06-24T13:18:20.600357Z",
     "iopub.status.idle": "2025-06-24T13:18:20.603749Z",
     "shell.execute_reply": "2025-06-24T13:18:20.603749Z",
     "shell.execute_reply.started": "2025-06-24T13:18:20.600357Z"
    }
   },
   "outputs": [],
   "source": [
    "import numpy as np\n",
    "import math\n",
    "import matplotlib.pyplot as plt\n",
    "from scipy.integrate import odeint"
   ]
  },
  {
   "cell_type": "code",
   "execution_count": null,
   "id": "24227bc8-8b4d-457c-859e-7c6e219aa43d",
   "metadata": {},
   "outputs": [],
   "source": []
  },
  {
   "cell_type": "code",
   "execution_count": 6,
   "id": "a750341c-6919-4c87-874c-b05785b65c28",
   "metadata": {
    "execution": {
     "iopub.execute_input": "2025-06-24T13:18:23.832744Z",
     "iopub.status.busy": "2025-06-24T13:18:23.832744Z",
     "iopub.status.idle": "2025-06-24T13:18:23.835123Z",
     "shell.execute_reply": "2025-06-24T13:18:23.835123Z",
     "shell.execute_reply.started": "2025-06-24T13:18:23.832744Z"
    }
   },
   "outputs": [],
   "source": [
    "def f(t, y):\n",
    "    return -2 * y"
   ]
  },
  {
   "cell_type": "code",
   "execution_count": 3,
   "id": "6cc384a4-cad6-4f6e-baf3-dccc80316238",
   "metadata": {
    "execution": {
     "iopub.execute_input": "2025-06-24T06:41:25.329890Z",
     "iopub.status.busy": "2025-06-24T06:41:25.329890Z",
     "iopub.status.idle": "2025-06-24T06:41:25.334035Z",
     "shell.execute_reply": "2025-06-24T06:41:25.333511Z",
     "shell.execute_reply.started": "2025-06-24T06:41:25.329890Z"
    }
   },
   "outputs": [],
   "source": [
    "def rk2(f, y0, t):\n",
    "    y = np.zeros(len(t))\n",
    "    y[0] = y0\n",
    "    h = t[1] - t[0]\n",
    "\n",
    "    for i in range(0, len(t) - 1):\n",
    "        k1 = h * f(t[i], y[i])\n",
    "        k2 = h * f(t[i] + h / 2, y[i] + k1 / 2)\n",
    "        y[i + 1] = y[i] + k2\n",
    "    return y"
   ]
  },
  {
   "cell_type": "code",
   "execution_count": 4,
   "id": "c1f79830-71c8-4107-89f0-52c3ff510f13",
   "metadata": {
    "execution": {
     "iopub.execute_input": "2025-06-24T13:18:16.988764Z",
     "iopub.status.busy": "2025-06-24T13:18:16.987768Z",
     "iopub.status.idle": "2025-06-24T13:18:17.702488Z",
     "shell.execute_reply": "2025-06-24T13:18:17.701488Z",
     "shell.execute_reply.started": "2025-06-24T13:18:16.987768Z"
    }
   },
   "outputs": [
    {
     "ename": "NameError",
     "evalue": "name 't' is not defined",
     "output_type": "error",
     "traceback": [
      "\u001b[1;31m---------------------------------------------------------------------------\u001b[0m",
      "\u001b[1;31mNameError\u001b[0m                                 Traceback (most recent call last)",
      "Cell \u001b[1;32mIn[4], line 1\u001b[0m\n\u001b[1;32m----> 1\u001b[0m y \u001b[38;5;241m=\u001b[39m np\u001b[38;5;241m.\u001b[39mzeros(\u001b[38;5;28mlen\u001b[39m(t))\n",
      "\u001b[1;31mNameError\u001b[0m: name 't' is not defined"
     ]
    }
   ],
   "source": [
    "y = np.zeros(len(t))"
   ]
  },
  {
   "cell_type": "code",
   "execution_count": null,
   "id": "9ce53b5b-066b-42de-ab26-c09fbea02035",
   "metadata": {},
   "outputs": [],
   "source": []
  }
 ],
 "metadata": {
  "kernelspec": {
   "display_name": "Python 3 (ipykernel)",
   "language": "python",
   "name": "python3"
  },
  "language_info": {
   "codemirror_mode": {
    "name": "ipython",
    "version": 3
   },
   "file_extension": ".py",
   "mimetype": "text/x-python",
   "name": "python",
   "nbconvert_exporter": "python",
   "pygments_lexer": "ipython3",
   "version": "3.12.7"
  }
 },
 "nbformat": 4,
 "nbformat_minor": 5
}
