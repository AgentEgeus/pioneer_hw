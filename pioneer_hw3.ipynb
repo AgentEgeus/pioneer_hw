{
 "cells": [
  {
   "cell_type": "markdown",
   "id": "94942a00-2608-41fa-a542-9bd66981041b",
   "metadata": {},
   "source": [
    "- 8.7.1 parts 1-4. Compare with the python library routines.\n",
    "\n",
    " - 8.8 parts 1-5\n",
    "\n",
    " - 8.8.1 energy conservation"
   ]
  },
  {
   "cell_type": "markdown",
   "id": "ccbb6499-363d-4151-a757-9b5abd97108d",
   "metadata": {},
   "source": [
    "https://colab.research.google.com/drive/1sm8PRwpsJ6_lRnNaAnRZ7tlKWvpzdqNs"
   ]
  },
  {
   "cell_type": "markdown",
   "id": "c926f353-e1fa-4625-9eb4-a96e45a79100",
   "metadata": {},
   "source": [
    "https://docs.google.com/document/d/1Zina4HnuHY8IyIbM3vo7T7RalNkY6IPJ-rSVe1C-Te8/edit?tab=t.0#heading=h.ycdxvn38rq1l"
   ]
  },
  {
   "cell_type": "code",
   "execution_count": null,
   "id": "571ce7cb-a480-445d-b784-e185b7ea1419",
   "metadata": {},
   "outputs": [],
   "source": [
    "def f(x,y):\n",
    "    \n",
    "    \n",
    "    return "
   ]
  },
  {
   "cell_type": "code",
   "execution_count": 2,
   "id": "147cbc0f-5ed1-4e05-8b2b-7c418848e83c",
   "metadata": {
    "execution": {
     "iopub.execute_input": "2025-07-04T21:39:08.581165Z",
     "iopub.status.busy": "2025-07-04T21:39:08.581165Z",
     "iopub.status.idle": "2025-07-04T21:39:08.584952Z",
     "shell.execute_reply": "2025-07-04T21:39:08.584952Z",
     "shell.execute_reply.started": "2025-07-04T21:39:08.581165Z"
    }
   },
   "outputs": [],
   "source": [
    "def rk2(f, y0, t, args=()):\n",
    "    n = len(t)\n",
    "    y = np.zeros((n, len(y0)))\n",
    "    y[0] = y0\n",
    "    for i in range(n - 1):\n",
    "        k1 = f(y[i], t[i], *args)\n",
    "        k2 = f(y[i] + h/2 * k1, t[i] + h/2, *args)\n",
    "        y[i+1] = y[i] + h * k2\n",
    "    return y"
   ]
  },
  {
   "cell_type": "code",
   "execution_count": null,
   "id": "0b1a572d-0374-4633-9b52-e96d5a6ddefb",
   "metadata": {},
   "outputs": [],
   "source": []
  },
  {
   "cell_type": "code",
   "execution_count": null,
   "id": "42b32055-8813-4505-99af-099bf9e8f662",
   "metadata": {
    "execution": {
     "iopub.execute_input": "2025-07-07T20:30:27.710618Z",
     "iopub.status.busy": "2025-07-07T20:30:27.710618Z",
     "iopub.status.idle": "2025-07-07T20:30:28.627962Z",
     "shell.execute_reply": "2025-07-07T20:30:28.627438Z",
     "shell.execute_reply.started": "2025-07-07T20:30:27.710618Z"
    }
   },
   "outputs": [],
   "source": [
    "from scipy.integrate import odeint\n",
    "import numpy as np\n",
    "import matplotlib.pyplot as plt\n",
    "\n",
    "def model(y, t):\n",
    "    x, v = y\n",
    "    dxdt = v\n",
    "    dvdt = -x\n",
    "    return [dxdt, dvdt]\n",
    "\n",
    "y0 = [1.0, 0.0]  # initial position x=1, velocity=0\n",
    "t = np.linspace(0, 10, 200)\n",
    "\n",
    "sol = odeint(model, y0, t)"
   ]
  },
  {
   "cell_type": "code",
   "execution_count": 2,
   "id": "6e755163-cc7c-4bc4-b0d3-dd4b974d2b5f",
   "metadata": {
    "execution": {
     "iopub.execute_input": "2025-07-07T20:31:03.653296Z",
     "iopub.status.busy": "2025-07-07T20:31:03.652426Z",
     "iopub.status.idle": "2025-07-07T20:31:03.658694Z",
     "shell.execute_reply": "2025-07-07T20:31:03.658694Z",
     "shell.execute_reply.started": "2025-07-07T20:31:03.653296Z"
    }
   },
   "outputs": [
    {
     "data": {
      "text/plain": [
       "array([[ 1.        ,  0.        ],\n",
       "       [ 0.99873767, -0.0502301 ],\n",
       "       [ 0.99495387, -0.10033339],\n",
       "       [ 0.98865816, -0.15018338],\n",
       "       [ 0.97986642, -0.19965421],\n",
       "       [ 0.96860085, -0.24862098],\n",
       "       [ 0.9548899 , -0.29696006],\n",
       "       [ 0.93876818, -0.34454942],\n",
       "       [ 0.92027639, -0.39126892],\n",
       "       [ 0.8994612 , -0.43700059],\n",
       "       [ 0.8763752 , -0.48162898],\n",
       "       [ 0.85107665, -0.52504143],\n",
       "       [ 0.82362943, -0.56712833],\n",
       "       [ 0.79410282, -0.60778343],\n",
       "       [ 0.76257138, -0.64690407],\n",
       "       [ 0.7291147 , -0.68439151],\n",
       "       [ 0.69381726, -0.7201511 ],\n",
       "       [ 0.65676817, -0.75409255],\n",
       "       [ 0.61806096, -0.78613017],\n",
       "       [ 0.57779336, -0.81618308],\n",
       "       [ 0.53606703, -0.84417541],\n",
       "       [ 0.49298731, -0.87003649],\n",
       "       [ 0.44866297, -0.89370103],\n",
       "       [ 0.40320591, -0.91510927],\n",
       "       [ 0.3567309 , -0.93420718],\n",
       "       [ 0.30935526, -0.95094653],\n",
       "       [ 0.26119861, -0.96528507],\n",
       "       [ 0.21238252, -0.9771866 ],\n",
       "       [ 0.16303023, -0.98662106],\n",
       "       [ 0.11326635, -0.99356465],\n",
       "       [ 0.06321652, -0.99799982],\n",
       "       [ 0.01300708, -0.99991539],\n",
       "       [-0.0372352 , -0.99930652],\n",
       "       [-0.08738347, -0.99617473],\n",
       "       [-0.13731112, -0.99052795],\n",
       "       [-0.18689211, -0.98238043],\n",
       "       [-0.23600127, -0.97175273],\n",
       "       [-0.2845146 , -0.95867169],\n",
       "       [-0.33230963, -0.94317033],\n",
       "       [-0.37926569, -0.92528779],\n",
       "       [-0.42526424, -0.90506922],\n",
       "       [-0.47018914, -0.88256565],\n",
       "       [-0.51392697, -0.85783391],\n",
       "       [-0.55636731, -0.83093644],\n",
       "       [-0.59740302, -0.80194113],\n",
       "       [-0.63693049, -0.7709212 ],\n",
       "       [-0.67484993, -0.73795496],\n",
       "       [-0.7110656 , -0.70312563],\n",
       "       [-0.74548608, -0.66652116],\n",
       "       [-0.77802446, -0.62823394],\n",
       "       [-0.80859859, -0.58836065],\n",
       "       [-0.83713129, -0.54700196],\n",
       "       [-0.86355053, -0.50426226],\n",
       "       [-0.8877896 , -0.46024948],\n",
       "       [-0.9097873 , -0.41507472],\n",
       "       [-0.9294881 , -0.36885205],\n",
       "       [-0.94684226, -0.32169814],\n",
       "       [-0.96180597, -0.27373206],\n",
       "       [-0.97434145, -0.2250749 ],\n",
       "       [-0.98441705, -0.17584951],\n",
       "       [-0.99200733, -0.12618015],\n",
       "       [-0.99709313, -0.07619223],\n",
       "       [-0.99966162, -0.02601196],\n",
       "       [-0.9997063 ,  0.02423399],\n",
       "       [-0.99722707,  0.07441876],\n",
       "       [-0.99223018,  0.12441564],\n",
       "       [-0.98472825,  0.17409842],\n",
       "       [-0.97474022,  0.22334166],\n",
       "       [-0.9622913 ,  0.27202104],\n",
       "       [-0.94741292,  0.32001365],\n",
       "       [-0.93014266,  0.36719835],\n",
       "       [-0.9105241 ,  0.41345599],\n",
       "       [-0.88860678,  0.4586698 ],\n",
       "       [-0.86444603,  0.50272562],\n",
       "       [-0.83810285,  0.54551224],\n",
       "       [-0.80964375,  0.58692162],\n",
       "       [-0.77914058,  0.62684923],\n",
       "       [-0.74667034,  0.66519426],\n",
       "       [-0.71231502,  0.7018599 ],\n",
       "       [-0.67616135,  0.73675358],\n",
       "       [-0.6383006 ,  0.76978721],\n",
       "       [-0.59882835,  0.8008774 ],\n",
       "       [-0.55784428,  0.82994564],\n",
       "       [-0.51545183,  0.85691856],\n",
       "       [-0.47175805,  0.88172805],\n",
       "       [-0.42687324,  0.90431148],\n",
       "       [-0.38091072,  0.92461183],\n",
       "       [-0.33398654,  0.94257785],\n",
       "       [-0.28621915,  0.95816419],\n",
       "       [-0.23772915,  0.97133149],\n",
       "       [-0.18863897,  0.98204652],\n",
       "       [-0.13907254,  0.99028221],\n",
       "       [-0.089155  ,  0.99601778],\n",
       "       [-0.03901238,  0.99923874],\n",
       "       [ 0.01122874,  0.99993697],\n",
       "       [ 0.06144151,  0.9981107 ],\n",
       "       [ 0.11149916,  0.99376455],\n",
       "       [ 0.16127531,  0.98690947],\n",
       "       [ 0.2106443 ,  0.97756279],\n",
       "       [ 0.25948149,  0.9657481 ],\n",
       "       [ 0.30766357,  0.95149523],\n",
       "       [ 0.35506891,  0.93484016],\n",
       "       [ 0.40157782,  0.91582493],\n",
       "       [ 0.44707288,  0.89449756],\n",
       "       [ 0.49143924,  0.87091189],\n",
       "       [ 0.53456488,  0.84512747],\n",
       "       [ 0.57634093,  0.81720939],\n",
       "       [ 0.61666192,  0.78722814],\n",
       "       [ 0.65542604,  0.7552594 ],\n",
       "       [ 0.69253544,  0.72138389],\n",
       "       [ 0.72789643,  0.68568714],\n",
       "       [ 0.76141972,  0.64825926],\n",
       "       [ 0.7930207 ,  0.60919475],\n",
       "       [ 0.82261956,  0.56859223],\n",
       "       [ 0.8501416 ,  0.52655421],\n",
       "       [ 0.87551732,  0.48318682],\n",
       "       [ 0.89868265,  0.43859955],\n",
       "       [ 0.91957912,  0.39290496],\n",
       "       [ 0.93815397,  0.34621843],\n",
       "       [ 0.95436031,  0.29865781],\n",
       "       [ 0.96815721,  0.25034318],\n",
       "       [ 0.97950984,  0.20139653],\n",
       "       [ 0.98838955,  0.15194141],\n",
       "       [ 0.99477391,  0.1021027 ],\n",
       "       [ 0.99864681,  0.05200621],\n",
       "       [ 0.99999847,  0.00177842],\n",
       "       [ 0.99882547, -0.04845386],\n",
       "       [ 0.99513078, -0.09856381],\n",
       "       [ 0.98892373, -0.14842492],\n",
       "       [ 0.98021999, -0.1979113 ],\n",
       "       [ 0.96904152, -0.24689803],\n",
       "       [ 0.95541656, -0.29526143],\n",
       "       [ 0.9393795 , -0.34287939],\n",
       "       [ 0.92097082, -0.3896317 ],\n",
       "       [ 0.90023701, -0.43540032],\n",
       "       [ 0.87723041, -0.4800697 ],\n",
       "       [ 0.85200911, -0.52352708],\n",
       "       [ 0.82463677, -0.56566273],\n",
       "       [ 0.79518251, -0.60637027],\n",
       "       [ 0.76372068, -0.64554694],\n",
       "       [ 0.73033072, -0.68309382],\n",
       "       [ 0.69509693, -0.71891612],\n",
       "       [ 0.65810825, -0.75292341],\n",
       "       [ 0.61945808, -0.78502982],\n",
       "       [ 0.57924399, -0.81515431],\n",
       "       [ 0.5375675 , -0.8432208 ],\n",
       "       [ 0.49453384, -0.86915846],\n",
       "       [ 0.45025165, -0.89290179],\n",
       "       [ 0.40483273, -0.91439084],\n",
       "       [ 0.35839175, -0.93357137],\n",
       "       [ 0.31104595, -0.95039496],\n",
       "       [ 0.26291487, -0.96481912],\n",
       "       [ 0.21412001, -0.97680745],\n",
       "       [ 0.16478458, -0.98632967],\n",
       "       [ 0.11503312, -0.99336175],\n",
       "       [ 0.06499124, -0.99788592],\n",
       "       [ 0.01478528, -0.99989078],\n",
       "       [-0.035458  , -0.99937126],\n",
       "       [-0.08561177, -0.99632867],\n",
       "       [-0.1355494 , -0.99077069],\n",
       "       [-0.18514481, -0.98271135],\n",
       "       [-0.2342728 , -0.972171  ],\n",
       "       [-0.28280932, -0.95917626],\n",
       "       [-0.33063186, -0.94375992],\n",
       "       [-0.37761965, -0.92596091],\n",
       "       [-0.42365409, -0.90582417],\n",
       "       [-0.46861895, -0.88340053],\n",
       "       [-0.5124007 , -0.85874661],\n",
       "       [-0.55488882, -0.83192465],\n",
       "       [-0.59597604, -0.80300236],\n",
       "       [-0.63555862, -0.77205277],\n",
       "       [-0.67353663, -0.73915401],\n",
       "       [-0.70981419, -0.70438913],\n",
       "       [-0.74429972, -0.66784592],\n",
       "       [-0.77690614, -0.62961662],\n",
       "       [-0.80755115, -0.58979776],\n",
       "       [-0.83615736, -0.54848986],\n",
       "       [-0.86265256, -0.50579721],\n",
       "       [-0.88696986, -0.4618276 ],\n",
       "       [-0.90904787, -0.41669203],\n",
       "       [-0.92883084, -0.37050446],\n",
       "       [-0.94626883, -0.32338148],\n",
       "       [-0.96131781, -0.27544208],\n",
       "       [-0.9739398 , -0.22680729],\n",
       "       [-0.98410293, -0.17759988],\n",
       "       [-0.99178153, -0.12794409],\n",
       "       [-0.99695622, -0.07796529],\n",
       "       [-0.99961394, -0.02778965],\n",
       "       [-0.99974798,  0.02245614],\n",
       "       [-0.997358  ,  0.07264525],\n",
       "       [-0.99245003,  0.12265095],\n",
       "       [-0.98503646,  0.172347  ],\n",
       "       [-0.97513601,  0.22160793],\n",
       "       [-0.96277368,  0.27030937],\n",
       "       [-0.94798067,  0.31832838],\n",
       "       [-0.93079434,  0.36554372],\n",
       "       [-0.91125807,  0.41183619],\n",
       "       [-0.88942118,  0.45708891],\n",
       "       [-0.86533882,  0.50118763],\n",
       "       [-0.83907176,  0.54402103]])"
      ]
     },
     "execution_count": 2,
     "metadata": {},
     "output_type": "execute_result"
    }
   ],
   "source": [
    "sol"
   ]
  },
  {
   "cell_type": "code",
   "execution_count": null,
   "id": "a48346d1-bcf5-419f-98b3-090e738d703e",
   "metadata": {
    "execution": {
     "iopub.execute_input": "2025-07-07T20:30:27.710618Z",
     "iopub.status.busy": "2025-07-07T20:30:27.710618Z",
     "iopub.status.idle": "2025-07-07T20:30:28.627962Z",
     "shell.execute_reply": "2025-07-07T20:30:28.627438Z",
     "shell.execute_reply.started": "2025-07-07T20:30:27.710618Z"
    }
   },
   "outputs": [
    {
     "data": {
      "image/png": "[encoded data removed]",
      "text/plain": [
       "<Figure size 640x480 with 1 Axes>"
      ]
     },
     "metadata": {},
     "output_type": "display_data"
    }
   ],
   "source": [
    "plt.plot(t, sol[:, 0])  # x(t)\n",
    "plt.title(\"Harmonic Oscillator using odeint\")\n",
    "plt.xlabel(\"Time\")\n",
    "plt.ylabel(\"Position\")\n",
    "plt.grid()\n",
    "plt.show()"
   ]
  },
  {
   "cell_type": "code",
   "execution_count": null,
   "id": "b3c47059-846f-4b72-aa1c-1ea60f262d41",
   "metadata": {},
   "outputs": [],
   "source": []
  },
  {
   "cell_type": "code",
   "execution_count": null,
   "id": "01fa9f5b-0ee1-4a5b-ad04-498a7f6dcc14",
   "metadata": {},
   "outputs": [],
   "source": []
  },
  {
   "cell_type": "code",
   "execution_count": null,
   "id": "148a16b7-4ce1-4a50-be2e-d9a5ceb95b5e",
   "metadata": {},
   "outputs": [],
   "source": []
  },
  {
   "cell_type": "code",
   "execution_count": null,
   "id": "0a5b0ece-3206-403b-9dd4-b63f77c95c71",
   "metadata": {},
   "outputs": [],
   "source": [
    "def rungekutta4(f, y0, t, args=()):\n",
    "    n = len(t)\n",
    "    y = np.zeros((n, len(y0)))\n",
    "    y[0] = y0\n",
    "    for i in range(n - 1):\n",
    "        h = t[i+1] - t[i]\n",
    "        k1 = f(y[i], t[i], *args)\n",
    "        k2 = f(y[i] + k1 * h / 2., t[i] + h / 2., *args)\n",
    "        k3 = f(y[i] + k2 * h / 2., t[i] + h / 2., *args)\n",
    "        k4 = f(y[i] + k3 * h, t[i] + h, *args)\n",
    "        y[i+1] = y[i] + (h / 6.) * (k1 + 2*k2 + 2*k3 + k4)\n",
    "    return y"
   ]
  },
  {
   "cell_type": "code",
   "execution_count": null,
   "id": "d0e35ac6-f1c7-42e0-ae6c-f74b7cf76184",
   "metadata": {},
   "outputs": [],
   "source": [
    "    "
   ]
  },
  {
   "cell_type": "code",
   "execution_count": null,
   "id": "7e4edd06-7dc7-4be9-9ae4-3be4325d2d3d",
   "metadata": {},
   "outputs": [],
   "source": []
  },
  {
   "cell_type": "code",
   "execution_count": null,
   "id": "b2ae4da4-d307-4f2a-922b-55bc2ac07f68",
   "metadata": {},
   "outputs": [],
   "source": []
  },
  {
   "cell_type": "code",
   "execution_count": null,
   "id": "21d66d08-6598-441c-a065-a3211464dc92",
   "metadata": {},
   "outputs": [],
   "source": []
  },
  {
   "cell_type": "code",
   "execution_count": null,
   "id": "a74dcac3-e350-4854-ae0a-828174865f99",
   "metadata": {},
   "outputs": [],
   "source": []
  },
  {
   "cell_type": "code",
   "execution_count": null,
   "id": "40daeaed-4187-4f23-877e-ed6f14852f6d",
   "metadata": {},
   "outputs": [],
   "source": []
  },
  {
   "cell_type": "code",
   "execution_count": null,
   "id": "5083b216-6189-4859-b94f-9711622e13d7",
   "metadata": {},
   "outputs": [],
   "source": []
  },
  {
   "cell_type": "code",
   "execution_count": null,
   "id": "5690d530-b895-41bc-8c35-1b4378bb521d",
   "metadata": {},
   "outputs": [],
   "source": []
  },
  {
   "cell_type": "code",
   "execution_count": null,
   "id": "ac075579-c3ba-4692-b243-3e4eca7e7cab",
   "metadata": {},
   "outputs": [],
   "source": []
  },
  {
   "cell_type": "code",
   "execution_count": 28,
   "id": "6cc384a4-cad6-4f6e-baf3-dccc80316238",
   "metadata": {
    "execution": {
     "iopub.execute_input": "2025-06-29T03:27:23.903023Z",
     "iopub.status.busy": "2025-06-29T03:27:23.902502Z",
     "iopub.status.idle": "2025-06-29T03:27:23.907019Z",
     "shell.execute_reply": "2025-06-29T03:27:23.907019Z",
     "shell.execute_reply.started": "2025-06-29T03:27:23.903023Z"
    }
   },
   "outputs": [],
   "source": [
    "import numpy as np\n",
    "import matplotlib.pyplot as plt\n",
    "\n",
    "# Define the ODE\n",
    "def f(t, y):\n",
    "    return t * y * 2\n",
    "\n",
    "# Your RK2 function (same as in your screenshot)\n",
    "def rk2(f, y0, t):\n",
    "    y = np.zeros(len(t))\n",
    "    y[0] = y0\n",
    "    h = t[1] - t[0]\n",
    "    for i in range(0, len(t) - 1):\n",
    "        k1 = h * f(t[i], y[i])\n",
    "        k2 = h * f(t[i] + h / 2, y[i] + k1 / 2)\n",
    "        y[i + 1] = y[i] + k2\n",
    "    return y"
   ]
  },
  {
   "cell_type": "code",
   "execution_count": 29,
   "id": "4026355a-430f-41f3-bba6-eee4c4e98cd6",
   "metadata": {
    "execution": {
     "iopub.execute_input": "2025-06-29T03:27:25.268607Z",
     "iopub.status.busy": "2025-06-29T03:27:25.267610Z",
     "iopub.status.idle": "2025-06-29T03:27:25.272300Z",
     "shell.execute_reply": "2025-06-29T03:27:25.271919Z",
     "shell.execute_reply.started": "2025-06-29T03:27:25.268607Z"
    }
   },
   "outputs": [
    {
     "name": "stdout",
     "output_type": "stream",
     "text": [
      "t = 0.00, y = 1.000000\n",
      "t = 0.10, y = 1.010000\n",
      "t = 0.20, y = 1.040603\n",
      "t = 0.30, y = 1.093674\n",
      "t = 0.40, y = 1.172528\n",
      "t = 0.50, y = 1.282276\n",
      "t = 0.60, y = 1.430379\n",
      "t = 0.70, y = 1.627485\n",
      "t = 0.80, y = 1.888697\n",
      "t = 0.90, y = 2.235461\n",
      "t = 1.00, y = 2.698426\n",
      "t = 1.10, y = 3.321762\n",
      "t = 1.20, y = 4.169808\n",
      "t = 1.30, y = 5.337354\n",
      "t = 1.40, y = 6.965780\n",
      "t = 1.50, y = 9.268667\n",
      "t = 1.60, y = 12.572947\n",
      "t = 1.70, y = 17.385872\n",
      "t = 1.80, y = 24.505386\n",
      "t = 1.90, y = 35.204438\n",
      "t = 2.00, y = 51.542817\n"
     ]
    }
   ],
   "source": [
    "# Time vector\n",
    "t = np.linspace(0, 2, 21)  # 0 to 2 in steps of 0.1\n",
    "\n",
    "# Initial condition\n",
    "y0 = 1\n",
    "\n",
    "# Solve the ODE\n",
    "y = rk2(f, y0, t)\n",
    "\n",
    "# Show output\n",
    "for i in range(len(t)):\n",
    "    print(f\"t = {t[i]:.2f}, y = {y[i]:.6f}\")\n"
   ]
  },
  {
   "cell_type": "code",
   "execution_count": null,
   "id": "65a0bae6-4218-462b-b757-14ef7993befb",
   "metadata": {},
   "outputs": [],
   "source": []
  },
  {
   "cell_type": "code",
   "execution_count": null,
   "id": "8bd7fe31-239d-43eb-afae-4c7f099f63e7",
   "metadata": {},
   "outputs": [],
   "source": []
  },
  {
   "cell_type": "code",
   "execution_count": null,
   "id": "53a3f40f-b4ba-499f-8178-2ffaa508ff75",
   "metadata": {},
   "outputs": [],
   "source": []
  },
  {
   "cell_type": "code",
   "execution_count": null,
   "id": "76bc7751-e264-40d0-9123-9b4f6dcdb9a9",
   "metadata": {},
   "outputs": [],
   "source": []
  },
  {
   "cell_type": "code",
   "execution_count": null,
   "id": "7b473288-f832-4137-addf-29a83c7795e3",
   "metadata": {},
   "outputs": [],
   "source": []
  },
  {
   "cell_type": "code",
   "execution_count": null,
   "id": "b4ef1d7e-69c7-4962-8241-c0729abd91b4",
   "metadata": {},
   "outputs": [],
   "source": []
  }
 ],
 "metadata": {
  "kernelspec": {
   "display_name": "Python 3 (ipykernel)",
   "language": "python",
   "name": "python3"
  },
  "language_info": {
   "codemirror_mode": {
    "name": "ipython",
    "version": 3
   },
   "file_extension": ".py",
   "mimetype": "text/x-python",
   "name": "python",
   "nbconvert_exporter": "python",
   "pygments_lexer": "ipython3",
   "version": "3.12.7"
  }
 },
 "nbformat": 4,
 "nbformat_minor": 5
}
