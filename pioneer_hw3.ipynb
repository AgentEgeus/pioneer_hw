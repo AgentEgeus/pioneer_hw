{
 "cells": [
  {
   "cell_type": "markdown",
   "id": "94942a00-2608-41fa-a542-9bd66981041b",
   "metadata": {},
   "source": [
    "- 8.7.1 parts 1-4. Compare with the python library routines.\n",
    "\n",
    " - 8.8 parts 1-5 (6-7 are bonus)\n",
    "\n",
    " - 8.8.1 energy conservation"
   ]
  },
  {
   "cell_type": "code",
   "execution_count": null,
   "id": "6e57d134-7062-4cf9-b72a-328400a21e03",
   "metadata": {},
   "outputs": [],
   "source": []
  },
  {
   "cell_type": "code",
   "execution_count": 28,
   "id": "6cc384a4-cad6-4f6e-baf3-dccc80316238",
   "metadata": {
    "execution": {
     "iopub.execute_input": "2025-06-29T03:27:23.903023Z",
     "iopub.status.busy": "2025-06-29T03:27:23.902502Z",
     "iopub.status.idle": "2025-06-29T03:27:23.907019Z",
     "shell.execute_reply": "2025-06-29T03:27:23.907019Z",
     "shell.execute_reply.started": "2025-06-29T03:27:23.903023Z"
    }
   },
   "outputs": [],
   "source": [
    "import numpy as np\n",
    "import matplotlib.pyplot as plt\n",
    "\n",
    "# Define the ODE\n",
    "def f(t, y):\n",
    "    return t * y * 2\n",
    "\n",
    "# Your RK2 function (same as in your screenshot)\n",
    "def rk2(f, y0, t):\n",
    "    y = np.zeros(len(t))\n",
    "    y[0] = y0\n",
    "    h = t[1] - t[0]\n",
    "    for i in range(0, len(t) - 1):\n",
    "        k1 = h * f(t[i], y[i])\n",
    "        k2 = h * f(t[i] + h / 2, y[i] + k1 / 2)\n",
    "        y[i + 1] = y[i] + k2\n",
    "    return y"
   ]
  },
  {
   "cell_type": "code",
   "execution_count": 29,
   "id": "4026355a-430f-41f3-bba6-eee4c4e98cd6",
   "metadata": {
    "execution": {
     "iopub.execute_input": "2025-06-29T03:27:25.268607Z",
     "iopub.status.busy": "2025-06-29T03:27:25.267610Z",
     "iopub.status.idle": "2025-06-29T03:27:25.272300Z",
     "shell.execute_reply": "2025-06-29T03:27:25.271919Z",
     "shell.execute_reply.started": "2025-06-29T03:27:25.268607Z"
    }
   },
   "outputs": [
    {
     "name": "stdout",
     "output_type": "stream",
     "text": [
      "t = 0.00, y = 1.000000\n",
      "t = 0.10, y = 1.010000\n",
      "t = 0.20, y = 1.040603\n",
      "t = 0.30, y = 1.093674\n",
      "t = 0.40, y = 1.172528\n",
      "t = 0.50, y = 1.282276\n",
      "t = 0.60, y = 1.430379\n",
      "t = 0.70, y = 1.627485\n",
      "t = 0.80, y = 1.888697\n",
      "t = 0.90, y = 2.235461\n",
      "t = 1.00, y = 2.698426\n",
      "t = 1.10, y = 3.321762\n",
      "t = 1.20, y = 4.169808\n",
      "t = 1.30, y = 5.337354\n",
      "t = 1.40, y = 6.965780\n",
      "t = 1.50, y = 9.268667\n",
      "t = 1.60, y = 12.572947\n",
      "t = 1.70, y = 17.385872\n",
      "t = 1.80, y = 24.505386\n",
      "t = 1.90, y = 35.204438\n",
      "t = 2.00, y = 51.542817\n"
     ]
    }
   ],
   "source": [
    "# Time vector\n",
    "t = np.linspace(0, 2, 21)  # 0 to 2 in steps of 0.1\n",
    "\n",
    "# Initial condition\n",
    "y0 = 1\n",
    "\n",
    "# Solve the ODE\n",
    "y = rk2(f, y0, t)\n",
    "\n",
    "# Show output\n",
    "for i in range(len(t)):\n",
    "    print(f\"t = {t[i]:.2f}, y = {y[i]:.6f}\")\n"
   ]
  },
  {
   "cell_type": "code",
   "execution_count": null,
   "id": "65a0bae6-4218-462b-b757-14ef7993befb",
   "metadata": {},
   "outputs": [],
   "source": []
  },
  {
   "cell_type": "code",
   "execution_count": null,
   "id": "8bd7fe31-239d-43eb-afae-4c7f099f63e7",
   "metadata": {},
   "outputs": [],
   "source": []
  },
  {
   "cell_type": "code",
   "execution_count": null,
   "id": "53a3f40f-b4ba-499f-8178-2ffaa508ff75",
   "metadata": {},
   "outputs": [],
   "source": []
  },
  {
   "cell_type": "code",
   "execution_count": null,
   "id": "76bc7751-e264-40d0-9123-9b4f6dcdb9a9",
   "metadata": {},
   "outputs": [],
   "source": []
  },
  {
   "cell_type": "code",
   "execution_count": null,
   "id": "7b473288-f832-4137-addf-29a83c7795e3",
   "metadata": {},
   "outputs": [],
   "source": []
  },
  {
   "cell_type": "code",
   "execution_count": null,
   "id": "b4ef1d7e-69c7-4962-8241-c0729abd91b4",
   "metadata": {},
   "outputs": [],
   "source": []
  }
 ],
 "metadata": {
  "kernelspec": {
   "display_name": "Python 3 (ipykernel)",
   "language": "python",
   "name": "python3"
  },
  "language_info": {
   "codemirror_mode": {
    "name": "ipython",
    "version": 3
   },
   "file_extension": ".py",
   "mimetype": "text/x-python",
   "name": "python",
   "nbconvert_exporter": "python",
   "pygments_lexer": "ipython3",
   "version": "3.12.7"
  }
 },
 "nbformat": 4,
 "nbformat_minor": 5
}
