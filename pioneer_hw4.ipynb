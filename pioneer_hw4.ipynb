{
 "cells": [
  {
   "cell_type": "markdown",
   "id": "d0ee6be3-ba47-4819-ac1f-a2840e686ecb",
   "metadata": {},
   "source": [
    "Homework 4:\n",
    "\n",
    "Write a short (2 page) paper that introduces, solves, and discusses the results from these problems below.\n",
    "\n",
    "Start from the 1D and 2D Ising model programs we discussed in class\n",
    "\n",
    "https://colab.research.google.com/drive/1xUB48UpB4Z87yPl2hJ8-8p4wBsH2wKcN?usp=sharing \n",
    "\n",
    "https://colab.research.google.com/drive/1eNzGeLRa8N3uPA-N8Sd0rNSnNZLITNQI?usp=sharing \n",
    "\n",
    " - Do as much of 17.4.2 \"Equilibration, Thermodynamic Properties (Assessment)\" as you can"
   ]
  },
  {
   "cell_type": "markdown",
   "id": "842cca42-4623-43f2-ba08-d8127b7fe3bf",
   "metadata": {},
   "source": [
    "https://docs.google.com/document/d/1nn-2GkRX4fjEr5y_usLedcZbWkXo9FufTLlJKmo9WK8/edit?tab=t.iw19628hmo7s"
   ]
  },
  {
   "cell_type": "code",
   "execution_count": 4,
   "id": "2e5b8541-7c9b-4799-a3f8-3b7bb2eeb72c",
   "metadata": {
    "execution": {
     "iopub.execute_input": "2025-06-29T22:23:19.225190Z",
     "iopub.status.busy": "2025-06-29T22:23:19.225190Z",
     "iopub.status.idle": "2025-06-29T22:23:19.683427Z",
     "shell.execute_reply": "2025-06-29T22:23:19.683017Z",
     "shell.execute_reply.started": "2025-06-29T22:23:19.225190Z"
    }
   },
   "outputs": [],
   "source": [
    "import numpy as np\n",
    "from numpy.random import rand\n",
    "import matplotlib.pyplot as plt\n",
    "import math"
   ]
  },
  {
   "cell_type": "code",
   "execution_count": null,
   "id": "fcc47472-1a21-401a-ab8b-7e18ba277fed",
   "metadata": {},
   "outputs": [],
   "source": []
  },
  {
   "cell_type": "code",
   "execution_count": null,
   "id": "0b70a5ff-4dd4-4d7d-8e33-19818ac0c64e",
   "metadata": {},
   "outputs": [],
   "source": []
  },
  {
   "cell_type": "code",
   "execution_count": null,
   "id": "0b89583b-2164-4ce3-9dcd-9fce463e289a",
   "metadata": {},
   "outputs": [],
   "source": []
  },
  {
   "cell_type": "code",
   "execution_count": 3,
   "id": "b938dd36-7a9b-4f2f-ab89-a55ade83669f",
   "metadata": {
    "execution": {
     "iopub.execute_input": "2025-06-29T22:23:07.908000Z",
     "iopub.status.busy": "2025-06-29T22:23:07.908000Z",
     "iopub.status.idle": "2025-06-29T22:23:07.914814Z",
     "shell.execute_reply": "2025-06-29T22:23:07.914814Z",
     "shell.execute_reply.started": "2025-06-29T22:23:07.908000Z"
    }
   },
   "outputs": [
    {
     "name": "stdout",
     "output_type": "stream",
     "text": [
      "[[ 1  1  1 -1 -1 -1 -1 -1 -1  1 -1  1 -1 -1 -1 -1 -1  1  1  1  1 -1  1  1\n",
      "  -1 -1 -1 -1  1 -1  1 -1  1 -1 -1  1  1  1  1 -1 -1 -1  1 -1 -1  1 -1  1\n",
      "  -1  1  1  1 -1 -1 -1  1 -1  1  1  1 -1  1 -1  1 -1  1 -1  1  1  1  1 -1\n",
      "  -1  1 -1  1  1  1  1 -1 -1  1  1  1 -1 -1  1  1 -1  1  1  1 -1 -1  1 -1\n",
      "   1  1  1  1]]\n"
     ]
    }
   ],
   "source": [
    "N=100\n",
    "state = 2*np.random.randint(2, size=(1,N))-1 # randomized\n",
    "print(state)"
   ]
  },
  {
   "cell_type": "code",
   "execution_count": null,
   "id": "47c9480a-cf18-4dc0-8363-55368a16d51f",
   "metadata": {},
   "outputs": [],
   "source": []
  },
  {
   "cell_type": "code",
   "execution_count": null,
   "id": "0a50cf9f-839b-4460-bd1f-242c2b888773",
   "metadata": {},
   "outputs": [],
   "source": []
  },
  {
   "cell_type": "code",
   "execution_count": null,
   "id": "208b3033-d371-4ba3-b330-ddc2a9a93cc2",
   "metadata": {},
   "outputs": [],
   "source": []
  },
  {
   "cell_type": "code",
   "execution_count": null,
   "id": "6c5a79ef-847f-4c4a-855a-7c9b4db3966d",
   "metadata": {},
   "outputs": [],
   "source": []
  },
  {
   "cell_type": "code",
   "execution_count": null,
   "id": "fca6e10f-23f1-40b2-858b-1dbd1a5ea8eb",
   "metadata": {},
   "outputs": [],
   "source": []
  },
  {
   "cell_type": "code",
   "execution_count": null,
   "id": "161ef77e-bb16-4271-8d9a-ea3402893394",
   "metadata": {},
   "outputs": [],
   "source": []
  },
  {
   "cell_type": "code",
   "execution_count": null,
   "id": "e194f839-c0df-4733-bf13-003cc4ab2913",
   "metadata": {},
   "outputs": [],
   "source": []
  },
  {
   "cell_type": "code",
   "execution_count": null,
   "id": "3b43df38-2440-43d4-9e9b-499f4a438451",
   "metadata": {},
   "outputs": [],
   "source": []
  },
  {
   "cell_type": "code",
   "execution_count": null,
   "id": "48c38955-0758-4a64-885a-5f25167f7c94",
   "metadata": {},
   "outputs": [],
   "source": []
  },
  {
   "cell_type": "code",
   "execution_count": null,
   "id": "bc19a66d-b967-4001-b35d-4c1af2c5dd70",
   "metadata": {},
   "outputs": [],
   "source": []
  }
 ],
 "metadata": {
  "kernelspec": {
   "display_name": "Python 3 (ipykernel)",
   "language": "python",
   "name": "python3"
  },
  "language_info": {
   "codemirror_mode": {
    "name": "ipython",
    "version": 3
   },
   "file_extension": ".py",
   "mimetype": "text/x-python",
   "name": "python",
   "nbconvert_exporter": "python",
   "pygments_lexer": "ipython3",
   "version": "3.12.7"
  }
 },
 "nbformat": 4,
 "nbformat_minor": 5
}
