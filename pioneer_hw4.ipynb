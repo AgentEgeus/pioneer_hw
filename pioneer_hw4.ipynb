{
 "cells": [
  {
   "cell_type": "markdown",
   "id": "d0ee6be3-ba47-4819-ac1f-a2840e686ecb",
   "metadata": {},
   "source": [
    "Homework 4:\n",
    "\n",
    "Write a short (2 page) paper that introduces, solves, and discusses the results from these problems below.\n",
    "\n",
    "Start from the 1D and 2D Ising model programs we discussed in class\n",
    "\n",
    "https://colab.research.google.com/drive/1xUB48UpB4Z87yPl2hJ8-8p4wBsH2wKcN?usp=sharing \n",
    "\n",
    "https://colab.research.google.com/drive/1eNzGeLRa8N3uPA-N8Sd0rNSnNZLITNQI?usp=sharing \n",
    "\n",
    " - Do as much of 17.4.2 \"Equilibration, Thermodynamic Properties (Assessment)\" as you can"
   ]
  },
  {
   "cell_type": "markdown",
   "id": "842cca42-4623-43f2-ba08-d8127b7fe3bf",
   "metadata": {},
   "source": [
    "https://docs.google.com/document/d/1nn-2GkRX4fjEr5y_usLedcZbWkXo9FufTLlJKmo9WK8/edit?tab=t.iw19628hmo7s"
   ]
  },
  {
   "cell_type": "code",
   "execution_count": 4,
   "id": "2e5b8541-7c9b-4799-a3f8-3b7bb2eeb72c",
   "metadata": {
    "execution": {
     "iopub.execute_input": "2025-06-29T22:23:19.225190Z",
     "iopub.status.busy": "2025-06-29T22:23:19.225190Z",
     "iopub.status.idle": "2025-06-29T22:23:19.683427Z",
     "shell.execute_reply": "2025-06-29T22:23:19.683017Z",
     "shell.execute_reply.started": "2025-06-29T22:23:19.225190Z"
    }
   },
   "outputs": [],
   "source": [
    "import numpy as np\n",
    "from numpy.random import rand\n",
    "import matplotlib.pyplot as plt\n",
    "import math"
   ]
  },
  {
   "cell_type": "code",
   "execution_count": null,
   "id": "fcc47472-1a21-401a-ab8b-7e18ba277fed",
   "metadata": {},
   "outputs": [],
   "source": []
  },
  {
   "cell_type": "code",
   "execution_count": null,
   "id": "0b70a5ff-4dd4-4d7d-8e33-19818ac0c64e",
   "metadata": {},
   "outputs": [],
   "source": []
  },
  {
   "cell_type": "code",
   "execution_count": null,
   "id": "0b89583b-2164-4ce3-9dcd-9fce463e289a",
   "metadata": {},
   "outputs": [],
   "source": []
  },
  {
   "cell_type": "markdown",
   "id": "852cf41f-9f70-4a7f-9be4-38eee16d61df",
   "metadata": {},
   "source": [
    "### asdf"
   ]
  },
  {
   "cell_type": "code",
   "execution_count": 10,
   "id": "fca6e10f-23f1-40b2-858b-1dbd1a5ea8eb",
   "metadata": {
    "execution": {
     "iopub.execute_input": "2025-07-01T05:06:05.190260Z",
     "iopub.status.busy": "2025-07-01T05:06:05.190260Z",
     "iopub.status.idle": "2025-07-01T05:06:35.376697Z",
     "shell.execute_reply": "2025-07-01T05:06:35.376697Z",
     "shell.execute_reply.started": "2025-07-01T05:06:05.190260Z"
    }
   },
   "outputs": [
    {
     "data": {
      "text/html": [
       "<div id=\"glowscript\" class=\"glowscript\"></div>"
      ],
      "text/plain": [
       "<IPython.core.display.HTML object>"
      ]
     },
     "metadata": {},
     "output_type": "display_data"
    },
    {
     "data": {
      "application/javascript": [
       "if (typeof Jupyter !== \"undefined\") { window.__context = { glowscript_container: $(\"#glowscript\").removeAttr(\"id\")};}else{ element.textContent = ' ';}"
      ],
      "text/plain": [
       "<IPython.core.display.Javascript object>"
      ]
     },
     "metadata": {},
     "output_type": "display_data"
    }
   ],
   "source": [
    "from vpython import *\n",
    "import numpy as np\n",
    "import math\n",
    "import random\n",
    "\n",
    "# --- Parameters ---\n",
    "N = 30\n",
    "J = 0.2\n",
    "B = 1.0\n",
    "mu = 0.33\n",
    "k = 1.0\n",
    "T = 100.0  # high temperature to encourage large flips\n",
    "steps = 300\n",
    "\n",
    "# --- Functions ---\n",
    "def energy(S):\n",
    "    interaction = -J * sum(S[i] * S[(i + 1) % N] for i in range(N))\n",
    "    field_term = -B * mu * sum(S)\n",
    "    return interaction + field_term\n",
    "\n",
    "# --- Initialization ---\n",
    "state = np.full(N, -1)\n",
    "ES = energy(state)\n",
    "\n",
    "# --- VPython Visualization Setup ---\n",
    "scene = canvas(title=\"Spin Chain (T=100)\", width=900, height=300, background=color.black)\n",
    "spin_arrows = []\n",
    "\n",
    "for i in range(N):\n",
    "    arrow_obj = arrow(pos=vector(i - N / 2, 0, 0),\n",
    "                      axis=vector(0, state[i], 0),\n",
    "                      color=color.yellow if state[i] == 1 else color.white,\n",
    "                      shaftwidth=0.3)\n",
    "    spin_arrows.append(arrow_obj)\n",
    "\n",
    "# --- Energy plot ---\n",
    "graph1 = graph(title=\"Energy of Spin System\", xtitle=\"Step\", ytitle=\"E\", fast=False, height=250, width=600)\n",
    "energy_curve = gcurve(color=color.cyan)\n",
    "\n",
    "# --- Simulation ---\n",
    "for j in range(steps):\n",
    "    rate(10)\n",
    "    test = np.copy(state)\n",
    "    r = random.randint(0, N - 1)\n",
    "    test[r] *= -1\n",
    "    ET = energy(test)\n",
    "    p = math.exp((ES - ET) / (k * T))\n",
    "\n",
    "    if p >= random.random():\n",
    "        state = test\n",
    "        ES = ET\n",
    "        for i in range(N):\n",
    "            spin_arrows[i].axis = vector(0, state[i], 0)\n",
    "            spin_arrows[i].color = color.yellow if state[i] == 1 else color.white\n",
    "\n",
    "    energy_curve.plot(j, ES)\n",
    "\n"
   ]
  },
  {
   "cell_type": "code",
   "execution_count": null,
   "id": "161ef77e-bb16-4271-8d9a-ea3402893394",
   "metadata": {},
   "outputs": [],
   "source": []
  },
  {
   "cell_type": "code",
   "execution_count": null,
   "id": "e194f839-c0df-4733-bf13-003cc4ab2913",
   "metadata": {},
   "outputs": [],
   "source": []
  },
  {
   "cell_type": "code",
   "execution_count": null,
   "id": "48c38955-0758-4a64-885a-5f25167f7c94",
   "metadata": {},
   "outputs": [],
   "source": []
  },
  {
   "cell_type": "code",
   "execution_count": null,
   "id": "bc19a66d-b967-4001-b35d-4c1af2c5dd70",
   "metadata": {},
   "outputs": [],
   "source": []
  },
  {
   "cell_type": "code",
   "execution_count": null,
   "id": "0b3fb9ef-ad25-41bc-ac0e-53c73b378298",
   "metadata": {},
   "outputs": [],
   "source": []
  }
 ],
 "metadata": {
  "kernelspec": {
   "display_name": "Python 3 (ipykernel)",
   "language": "python",
   "name": "python3"
  },
  "language_info": {
   "codemirror_mode": {
    "name": "ipython",
    "version": 3
   },
   "file_extension": ".py",
   "mimetype": "text/x-python",
   "name": "python",
   "nbconvert_exporter": "python",
   "pygments_lexer": "ipython3",
   "version": "3.12.7"
  }
 },
 "nbformat": 4,
 "nbformat_minor": 5
}
