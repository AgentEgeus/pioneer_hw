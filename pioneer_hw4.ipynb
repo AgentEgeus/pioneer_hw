{
 "cells": [
  {
   "cell_type": "markdown",
   "id": "d0ee6be3-ba47-4819-ac1f-a2840e686ecb",
   "metadata": {},
   "source": [
    "Homework 4:\n",
    "\n",
    "Write a short (2 page) paper that introduces, solves, and discusses the results from these problems below.\n",
    "\n",
    "Start from the 1D and 2D Ising model programs we discussed in class\n",
    "\n",
    "https://colab.research.google.com/drive/1xUB48UpB4Z87yPl2hJ8-8p4wBsH2wKcN?usp=sharing \n",
    "\n",
    "https://colab.research.google.com/drive/1eNzGeLRa8N3uPA-N8Sd0rNSnNZLITNQI?usp=sharing \n",
    "\n",
    " - Do as much of 17.4.2 \"Equilibration, Thermodynamic Properties (Assessment)\" as you can"
   ]
  },
  {
   "cell_type": "markdown",
   "id": "842cca42-4623-43f2-ba08-d8127b7fe3bf",
   "metadata": {},
   "source": [
    "https://docs.google.com/document/d/1nn-2GkRX4fjEr5y_usLedcZbWkXo9FufTLlJKmo9WK8/edit?tab=t.iw19628hmo7s"
   ]
  },
  {
   "cell_type": "code",
   "execution_count": null,
   "id": "161ef77e-bb16-4271-8d9a-ea3402893394",
   "metadata": {},
   "outputs": [],
   "source": []
  },
  {
   "cell_type": "code",
   "execution_count": 31,
   "id": "e194f839-c0df-4733-bf13-003cc4ab2913",
   "metadata": {
    "execution": {
     "iopub.execute_input": "2025-07-01T12:03:52.828841Z",
     "iopub.status.busy": "2025-07-01T12:03:52.828344Z",
     "iopub.status.idle": "2025-07-01T12:03:52.834867Z",
     "shell.execute_reply": "2025-07-01T12:03:52.834867Z",
     "shell.execute_reply.started": "2025-07-01T12:03:52.828841Z"
    }
   },
   "outputs": [],
   "source": [
    "import numpy as np\n",
    "from vpython import canvas, arrow, vector, color, rate, graph, gcurve\n",
    "import matplotlib.pyplot as plt"
   ]
  },
  {
   "cell_type": "code",
   "execution_count": 1,
   "id": "bc19a66d-b967-4001-b35d-4c1af2c5dd70",
   "metadata": {
    "execution": {
     "iopub.execute_input": "2025-07-01T06:21:44.965588Z",
     "iopub.status.busy": "2025-07-01T06:21:44.965113Z",
     "iopub.status.idle": "2025-07-01T06:21:53.971286Z",
     "shell.execute_reply": "2025-07-01T06:21:53.971286Z",
     "shell.execute_reply.started": "2025-07-01T06:21:44.965588Z"
    }
   },
   "outputs": [
    {
     "data": {
      "text/html": [
       "<div id=\"glowscript\" class=\"glowscript\"></div>"
      ],
      "text/plain": [
       "<IPython.core.display.HTML object>"
      ]
     },
     "metadata": {},
     "output_type": "display_data"
    },
    {
     "data": {
      "application/javascript": [
       "if (typeof Jupyter !== \"undefined\") { window.__context = { glowscript_container: $(\"#glowscript\").removeAttr(\"id\")};}else{ element.textContent = ' ';}"
      ],
      "text/plain": [
       "<IPython.core.display.Javascript object>"
      ]
     },
     "metadata": {},
     "output_type": "display_data"
    },
    {
     "data": {
      "text/html": [
       "<div id=\"glowscript\" class=\"glowscript\"></div>"
      ],
      "text/plain": [
       "<IPython.core.display.HTML object>"
      ]
     },
     "metadata": {},
     "output_type": "display_data"
    },
    {
     "data": {
      "application/javascript": [
       "if (typeof Jupyter !== \"undefined\") { window.__context = { glowscript_container: $(\"#glowscript\").removeAttr(\"id\")};}else{ element.textContent = ' ';}"
      ],
      "text/plain": [
       "<IPython.core.display.Javascript object>"
      ]
     },
     "metadata": {},
     "output_type": "display_data"
    }
   ],
   "source": [
    "from vpython import *\n",
    "import numpy as np\n",
    "import random\n",
    "import math\n",
    "\n",
    "# -----------------------------------\n",
    "# PARAMETERS\n",
    "# -----------------------------------\n",
    "N = 30\n",
    "steps = 300\n",
    "\n",
    "# -----------------------------------\n",
    "# ENERGY FUNCTION\n",
    "# -----------------------------------\n",
    "def calcEnergy(config):\n",
    "    energy = 0\n",
    "    for i in range(N):\n",
    "        S = config[0, i]\n",
    "        nb = config[0, (i + 1) % N] + config[0, (i - 1) % N]\n",
    "        energy += -nb * S\n",
    "    return energy / 2.0\n",
    "\n",
    "# -----------------------------------\n",
    "# RUN ONE SIMULATION WITH VPYTHON + HISTORY\n",
    "# -----------------------------------\n",
    "def run_simulation_with_visuals(T, y_offset, color_label):\n",
    "    beta = 1.0 / T\n",
    "    config = 2 * np.random.randint(1, size=(1, N)) - 1\n",
    "\n",
    "    # Create spin arrows\n",
    "    spin_arrows = []\n",
    "    for i in range(N):\n",
    "        arrow_obj = arrow(pos=vector(i - N / 2, y_offset, 0),\n",
    "                          axis=vector(0, config[0, i], 0),\n",
    "                          color=color.yellow if config[0, i] == 1 else color.white,\n",
    "                          shaftwidth=0.3)\n",
    "        spin_arrows.append(arrow_obj)\n",
    "\n",
    "    # Graph\n",
    "    graph(title=f\"Energy Over Time (T = {T})\", xtitle=\"Step\", ytitle=\"Energy\", fast=False, height=200, width=500)\n",
    "    energy_curve = gcurve(color=color_label)\n",
    "\n",
    "    # Track config + energy history\n",
    "    config_history = []\n",
    "    energy_history = []\n",
    "\n",
    "    E = calcEnergy(config)\n",
    "\n",
    "    for step in range(steps):\n",
    "        rate(120)\n",
    "        b = random.randint(0, N - 1)\n",
    "        s = config[0, b]\n",
    "        nb = config[0, (b + 1) % N] + config[0, (b - 1) % N]\n",
    "        cost = 2 * s * nb\n",
    "\n",
    "        if cost < 0 or random.random() < math.exp(-cost * beta):\n",
    "            config[0, b] *= -1\n",
    "            s = config[0, b]\n",
    "            E = calcEnergy(config)\n",
    "\n",
    "            # update arrow\n",
    "            spin_arrows[b].axis = vector(0, s, 0)\n",
    "            spin_arrows[b].color = color.yellow if s == 1 else color.white\n",
    "\n",
    "        config_history.append(config.copy())\n",
    "        energy_history.append(E)\n",
    "        energy_curve.plot(step, E)\n",
    "\n",
    "    return config_history, energy_history\n",
    "\n",
    "# -----------------------------------\n",
    "# RUN BOTH SIMULATIONS WITH VISUALS\n",
    "# -----------------------------------\n",
    "scene = canvas(title=\"Ising Model - High vs Low T\", width=600, height=400, background=color.black)\n",
    "highT_history, highT_energy = run_simulation_with_visuals(T=100.0, y_offset=2, color_label=color.red)\n",
    "lowT_history, lowT_energy = run_simulation_with_visuals(T=1.0, y_offset=-2, color_label=color.cyan)\n"
   ]
  },
  {
   "cell_type": "code",
   "execution_count": null,
   "id": "0b3fb9ef-ad25-41bc-ac0e-53c73b378298",
   "metadata": {},
   "outputs": [],
   "source": []
  },
  {
   "cell_type": "code",
   "execution_count": null,
   "id": "7a876e3d-9275-404a-9efa-c05f44f5586a",
   "metadata": {},
   "outputs": [],
   "source": []
  },
  {
   "cell_type": "code",
   "execution_count": 2,
   "id": "7e92a5b1-9b3c-499f-905b-1fe77516327b",
   "metadata": {
    "execution": {
     "iopub.execute_input": "2025-07-01T06:22:01.828941Z",
     "iopub.status.busy": "2025-07-01T06:22:01.828941Z",
     "iopub.status.idle": "2025-07-01T06:23:02.731246Z",
     "shell.execute_reply": "2025-07-01T06:23:02.731246Z",
     "shell.execute_reply.started": "2025-07-01T06:22:01.828941Z"
    },
    "scrolled": true
   },
   "outputs": [
    {
     "data": {
      "text/html": [
       "<div id=\"glowscript\" class=\"glowscript\"></div>"
      ],
      "text/plain": [
       "<IPython.core.display.HTML object>"
      ]
     },
     "metadata": {},
     "output_type": "display_data"
    },
    {
     "data": {
      "application/javascript": [
       "if (typeof Jupyter !== \"undefined\") { window.__context = { glowscript_container: $(\"#glowscript\").removeAttr(\"id\")};}else{ element.textContent = ' ';}"
      ],
      "text/plain": [
       "<IPython.core.display.Javascript object>"
      ]
     },
     "metadata": {},
     "output_type": "display_data"
    },
    {
     "data": {
      "text/plain": [
       "({'avg_domains': 2.6, 'avg_size': 17.2, 'avg_energy': -26.8},\n",
       " {'avg_domains': 14.7, 'avg_size': 2.114647542859617, 'avg_energy': -1.6})"
      ]
     },
     "execution_count": 2,
     "metadata": {},
     "output_type": "execute_result"
    }
   ],
   "source": [
    "# Final version to run simulations, show visuals once, and compute domain & energy stats\n",
    "\n",
    "def count_domains(config):\n",
    "    spins = config[0]\n",
    "    domains = 1\n",
    "    for i in range(1, len(spins)):\n",
    "        if spins[i] != spins[i - 1]:\n",
    "            domains += 1\n",
    "    return domains, len(spins) / domains\n",
    "\n",
    "# Run 10 times, show visual only once\n",
    "def batch_stats_with_visual_once(T, y_offset, color_label):\n",
    "    domain_counts = []\n",
    "    domain_sizes = []\n",
    "    energies = []\n",
    "\n",
    "    for i in range(10):\n",
    "        if i == 0:\n",
    "            config_history, energy_history = run_simulation_with_visuals(T=T, y_offset=y_offset, color_label=color_label)\n",
    "        else:\n",
    "            config_history, energy_history = run_simulation_with_visuals(T=T, y_offset=0, color_label=color.white)\n",
    "\n",
    "        final_config = config_history[-1]\n",
    "        final_energy = energy_history[-1]\n",
    "        domains, avg_size = count_domains(final_config)\n",
    "\n",
    "        domain_counts.append(domains)\n",
    "        domain_sizes.append(avg_size)\n",
    "        energies.append(final_energy)\n",
    "\n",
    "    return {\n",
    "        \"avg_domains\": np.mean(domain_counts),\n",
    "        \"avg_size\": np.mean(domain_sizes),\n",
    "        \"avg_energy\": np.mean(energies)\n",
    "    }\n",
    "\n",
    "# Example usage (run this after defining everything above)\n",
    "scene = canvas(title=\"Ising Model Summary - Batch Stats\", width=600, height=300, background=color.black)\n",
    "\n",
    "lowT_summary = batch_stats_with_visual_once(T=1.0, y_offset=2, color_label=color.cyan)\n",
    "highT_summary = batch_stats_with_visual_once(T=100.0, y_offset=-2, color_label=color.red)\n",
    "\n",
    "lowT_summary, highT_summary\n"
   ]
  },
  {
   "cell_type": "code",
   "execution_count": null,
   "id": "1cf19adb-7b7e-4d9e-b52c-82a5a791d863",
   "metadata": {},
   "outputs": [],
   "source": []
  },
  {
   "cell_type": "code",
   "execution_count": null,
   "id": "afe41878-56ce-4ae6-8309-1bd586eacec1",
   "metadata": {},
   "outputs": [],
   "source": []
  },
  {
   "cell_type": "code",
   "execution_count": null,
   "id": "f31f2ca6-a29e-40d3-ab7d-6a8952e2c50d",
   "metadata": {},
   "outputs": [],
   "source": [
    "\n",
    "({'avg_domains': 2.6, 'avg_size': 17.2, 'avg_energy': -26.8},\n",
    " {'avg_domains': 14.7, 'avg_size': 2.114647542859617, 'avg_energy': -1.6})"
   ]
  },
  {
   "cell_type": "code",
   "execution_count": 3,
   "id": "774c202b-5179-4743-a6b5-de862d59e46f",
   "metadata": {
    "execution": {
     "iopub.execute_input": "2025-07-01T06:24:03.995306Z",
     "iopub.status.busy": "2025-07-01T06:24:03.995306Z",
     "iopub.status.idle": "2025-07-01T06:29:09.615785Z",
     "shell.execute_reply": "2025-07-01T06:29:09.615785Z",
     "shell.execute_reply.started": "2025-07-01T06:24:03.995306Z"
    }
   },
   "outputs": [
    {
     "name": "stdout",
     "output_type": "stream",
     "text": [
      "Running T = 0.50\n",
      "Running T = 1.00\n",
      "Running T = 1.50\n",
      "Running T = 2.00\n",
      "Running T = 2.50\n",
      "Running T = 3.00\n",
      "Running T = 3.50\n",
      "Running T = 4.00\n",
      "Running T = 4.50\n",
      "Running T = 5.00\n"
     ]
    },
    {
     "data": {
      "image/png": "[encoded data removed]",
      "text/plain": [
       "<Figure size 700x500 with 1 Axes>"
      ]
     },
     "metadata": {},
     "output_type": "display_data"
    }
   ],
   "source": [
    "# Loop over multiple temperatures and plot average domain size vs. temperature\n",
    "import matplotlib.pyplot as plt\n",
    "\n",
    "# List of temperatures to try (adjustable)\n",
    "temperatures = np.linspace(0.5, 5.0, 10)\n",
    "avg_sizes = []\n",
    "\n",
    "# Only show visual for the first temperature\n",
    "for i, T in enumerate(temperatures):\n",
    "    print(f\"Running T = {T:.2f}\")\n",
    "    summary = batch_stats_with_visual_once(\n",
    "        T=T,\n",
    "        y_offset=2 if i == 0 else 0,\n",
    "        color_label=color.cyan if i == 0 else color.white\n",
    "    )\n",
    "    avg_sizes.append(summary[\"avg_size\"])\n",
    "\n",
    "# Plotting\n",
    "plt.figure(figsize=(7, 5))\n",
    "plt.plot(temperatures, avg_sizes, marker='o', linestyle='-')\n",
    "plt.xlabel(\"Temperature (T)\")\n",
    "plt.ylabel(\"Average Domain Size\")\n",
    "plt.title(\"Average Domain Size vs. Temperature\")\n",
    "plt.grid(True)\n",
    "plt.tight_layout()\n",
    "plt.show()"
   ]
  },
  {
   "cell_type": "code",
   "execution_count": null,
   "id": "adfab01d-6605-4b21-85c0-195c98135095",
   "metadata": {},
   "outputs": [],
   "source": []
  },
  {
   "cell_type": "code",
   "execution_count": null,
   "id": "77ca6631-b307-4480-8200-830ec9d1c95d",
   "metadata": {},
   "outputs": [],
   "source": []
  },
  {
   "cell_type": "code",
   "execution_count": null,
   "id": "33935943-abf4-4f63-8608-ded69c552d4e",
   "metadata": {},
   "outputs": [],
   "source": []
  },
  {
   "cell_type": "code",
   "execution_count": null,
   "id": "a5944483-6996-401b-90d4-1aac9f58cd2e",
   "metadata": {},
   "outputs": [],
   "source": []
  },
  {
   "cell_type": "code",
   "execution_count": null,
   "id": "28770255-c786-46b7-a8fd-c9ecc51e80fd",
   "metadata": {},
   "outputs": [],
   "source": []
  },
  {
   "cell_type": "code",
   "execution_count": 5,
   "id": "1ffc7ef5-b6f7-446a-bd3c-c579b7acb1a0",
   "metadata": {
    "execution": {
     "iopub.execute_input": "2025-07-01T11:27:42.937378Z",
     "iopub.status.busy": "2025-07-01T11:27:42.937378Z",
     "iopub.status.idle": "2025-07-01T11:27:42.948732Z",
     "shell.execute_reply": "2025-07-01T11:27:42.948034Z",
     "shell.execute_reply.started": "2025-07-01T11:27:42.937378Z"
    }
   },
   "outputs": [],
   "source": [
    "# Re-run after execution state reset\n",
    "import numpy as np\n",
    "import random\n",
    "import math\n",
    "\n",
    "# --- PARAMETERS (user-controlled) ---\n",
    "N = 30       # Number of spins\n",
    "steps = 300  # Number of simulation steps\n",
    "\n",
    "# --- ENERGY FUNCTION ---\n",
    "def calc_energy(config):\n",
    "    energy = 0\n",
    "    for i in range(N):\n",
    "        S = config[0, i]\n",
    "        nb = config[0, (i + 1) % N] + config[0, (i - 1) % N]\n",
    "        energy += -nb * S\n",
    "    return energy / 2.0\n",
    "\n",
    "# --- SIMULATION CORE (no visuals) ---\n",
    "def run_ising_simulation(T):\n",
    "    beta = 1.0 / T\n",
    "    config = 2 * np.random.randint(1, size=(1, N)) - 1  # All spins down\n",
    "\n",
    "    energy_history = []\n",
    "    config_history = []\n",
    "\n",
    "    for step in range(steps):\n",
    "        b = random.randint(0, N - 1)\n",
    "        s = config[0, b]\n",
    "        nb = config[0, (b + 1) % N] + config[0, (b - 1) % N]\n",
    "        cost = 2 * s * nb\n",
    "\n",
    "        if cost < 0 or random.random() < math.exp(-cost * beta):\n",
    "            config[0, b] *= -1\n",
    "\n",
    "        energy = calc_energy(config)\n",
    "        energy_history.append(energy)\n",
    "        config_history.append(config.copy())\n",
    "\n",
    "    return {\n",
    "        \"energy_history\": np.array(energy_history),\n",
    "        \"config_history\": np.array(config_history),\n",
    "        \"T\": T\n",
    "    }"
   ]
  },
  {
   "cell_type": "code",
   "execution_count": 6,
   "id": "8406c670-ff55-4046-9810-f5ace54bc739",
   "metadata": {
    "execution": {
     "iopub.execute_input": "2025-07-01T11:27:44.683046Z",
     "iopub.status.busy": "2025-07-01T11:27:44.683046Z",
     "iopub.status.idle": "2025-07-01T11:27:44.697897Z",
     "shell.execute_reply": "2025-07-01T11:27:44.696642Z",
     "shell.execute_reply.started": "2025-07-01T11:27:44.683046Z"
    }
   },
   "outputs": [],
   "source": [
    "# --- ANALYSIS FUNCTIONS (post-simulation) ---\n",
    "\n",
    "def domain_count(config):\n",
    "    spins = config[0]\n",
    "    count = 1\n",
    "    for i in range(1, len(spins)):\n",
    "        if spins[i] != spins[i - 1]:\n",
    "            count += 1\n",
    "    return count\n",
    "\n",
    "def average_energy_fluctuation(energy_history):\n",
    "    return np.std(energy_history)\n",
    "\n",
    "def average_domain_size(config):\n",
    "    count = domain_count(config)\n",
    "    return N / count\n",
    "\n",
    "def summarize_simulation(sim):\n",
    "    final_config = sim[\"config_history\"][-1]\n",
    "    final_energy = sim[\"energy_history\"][-1]\n",
    "    return {\n",
    "        \"avg_energy\": np.mean(sim[\"energy_history\"]),\n",
    "        \"final_energy\": final_energy,\n",
    "        \"energy_fluctuation\": average_energy_fluctuation(sim[\"energy_history\"]),\n",
    "        \"final_domain_count\": domain_count(final_config),\n",
    "        \"final_avg_domain_size\": average_domain_size(final_config)\n",
    "    }"
   ]
  },
  {
   "cell_type": "code",
   "execution_count": null,
   "id": "2ea2a418-4eb2-443d-9631-a47c9f305b32",
   "metadata": {},
   "outputs": [],
   "source": []
  },
  {
   "cell_type": "markdown",
   "id": "0dd9aa8e-7289-428a-bf53-b896e8d6c3f9",
   "metadata": {},
   "source": [
    "## Simulation"
   ]
  },
  {
   "cell_type": "code",
   "execution_count": 26,
   "id": "e9fd7959-be48-4017-b06c-1fedc92c65c3",
   "metadata": {
    "execution": {
     "iopub.execute_input": "2025-07-01T12:01:56.704880Z",
     "iopub.status.busy": "2025-07-01T12:01:56.704880Z",
     "iopub.status.idle": "2025-07-01T12:01:56.715578Z",
     "shell.execute_reply": "2025-07-01T12:01:56.714091Z",
     "shell.execute_reply.started": "2025-07-01T12:01:56.704880Z"
    }
   },
   "outputs": [],
   "source": [
    "# parameters\n",
    "N = 30           \n",
    "steps = 300   \n",
    "\n",
    "def calc_energy(config):\n",
    "    energy = 0\n",
    "    for i in range(N):\n",
    "        S = config[0, i]\n",
    "        nb = config[0, (i + 1) % N] + config[0, (i - 1) % N]\n",
    "        energy += -nb * S\n",
    "    return energy / 2.0\n",
    "\n",
    "def run_ising_sim(T):\n",
    "    beta = 1.0 / T\n",
    "    config = 2 * np.random.randint(1, size=(1, N)) - 1  # cold start\n",
    "\n",
    "    sim = np.zeros((steps, N + 1))  # N spins + energy per step\n",
    "\n",
    "    for step in range(steps):\n",
    "        b = np.random.randint(0, N)\n",
    "        s = config[0, b]\n",
    "        nb = config[0, (b + 1) % N] + config[0, (b - 1) % N]\n",
    "        cost = 2 * s * nb\n",
    "\n",
    "        if cost < 0 or np.random.rand() < np.exp(-cost * beta):\n",
    "            config[0, b] *= -1\n",
    "\n",
    "        E = calc_energy(config)\n",
    "        sim[step, :-1] = config\n",
    "        sim[step, -1] = E\n",
    "\n",
    "    return sim"
   ]
  },
  {
   "cell_type": "code",
   "execution_count": 25,
   "id": "d874ea47-782a-4c9e-a00b-9b7954b87310",
   "metadata": {
    "execution": {
     "iopub.execute_input": "2025-07-01T11:48:00.564683Z",
     "iopub.status.busy": "2025-07-01T11:48:00.564683Z",
     "iopub.status.idle": "2025-07-01T11:48:00.598659Z",
     "shell.execute_reply": "2025-07-01T11:48:00.598161Z",
     "shell.execute_reply.started": "2025-07-01T11:48:00.564683Z"
    }
   },
   "outputs": [
    {
     "data": {
      "text/plain": [
       "array([[ -1.,  -1.,  -1., ...,  -1.,  -1., -30.],\n",
       "       [ -1.,  -1.,  -1., ...,  -1.,  -1., -30.],\n",
       "       [ -1.,  -1.,  -1., ...,  -1.,  -1., -30.],\n",
       "       ...,\n",
       "       [  1.,   1.,   1., ...,  -1.,  -1., -18.],\n",
       "       [  1.,   1.,   1., ...,  -1.,  -1., -18.],\n",
       "       [  1.,   1.,   1., ...,  -1.,  -1., -18.]])"
      ]
     },
     "execution_count": 25,
     "metadata": {},
     "output_type": "execute_result"
    }
   ],
   "source": [
    "run_ising_sim(1.0)"
   ]
  },
  {
   "cell_type": "markdown",
   "id": "8f2a74cb-30ed-4105-9af6-544868a97e69",
   "metadata": {},
   "source": [
    "## Visualization"
   ]
  },
  {
   "cell_type": "code",
   "execution_count": 27,
   "id": "37b5d6ef-bc84-4a28-b10d-79a09a7535a6",
   "metadata": {
    "execution": {
     "iopub.execute_input": "2025-07-01T12:02:05.872172Z",
     "iopub.status.busy": "2025-07-01T12:02:05.872172Z",
     "iopub.status.idle": "2025-07-01T12:02:05.882942Z",
     "shell.execute_reply": "2025-07-01T12:02:05.882441Z",
     "shell.execute_reply.started": "2025-07-01T12:02:05.872172Z"
    }
   },
   "outputs": [],
   "source": [
    "def visualize(sim):\n",
    "    steps, total = sim.shape\n",
    "    N = total - 1  # Number of spins\n",
    "\n",
    "    scene = canvas(title=\"Ising Model Visualization\", width=600, height=400, background=color.black)\n",
    "    graph(title=\"Energy Over Time\", xtitle=\"Step\", ytitle=\"Energy\", fast=False, height=200, width=500)\n",
    "    energy_curve = gcurve(color=color.cyan)\n",
    "\n",
    "    arrows = []\n",
    "    for i in range(N):\n",
    "        s = sim[0, i]\n",
    "        a = arrow(pos=vector(i - N / 2, 0, 0),\n",
    "                  axis=vector(0, s, 0),\n",
    "                  color=color.yellow if s == 1 else color.white,\n",
    "                  shaftwidth=0.3)\n",
    "        arrows.append(a)\n",
    "\n",
    "    for step in range(steps):\n",
    "        rate(60)\n",
    "        config = sim[step, :-1]\n",
    "        energy = sim[step, -1]\n",
    "\n",
    "        for i in range(N):\n",
    "            spin = config[i]\n",
    "            arrows[i].axis = vector(0, spin, 0)\n",
    "            arrows[i].color = color.yellow if spin == 1 else color.white\n",
    "\n",
    "        energy_curve.plot(step, energy)"
   ]
  },
  {
   "cell_type": "code",
   "execution_count": 24,
   "id": "f09620f6-3bb3-462f-be41-56dac01724ef",
   "metadata": {
    "execution": {
     "iopub.execute_input": "2025-07-01T11:47:30.010500Z",
     "iopub.status.busy": "2025-07-01T11:47:30.010500Z",
     "iopub.status.idle": "2025-07-01T11:47:34.394860Z",
     "shell.execute_reply": "2025-07-01T11:47:34.394860Z",
     "shell.execute_reply.started": "2025-07-01T11:47:30.010500Z"
    },
    "scrolled": true
   },
   "outputs": [
    {
     "data": {
      "text/html": [
       "<div id=\"glowscript\" class=\"glowscript\"></div>"
      ],
      "text/plain": [
       "<IPython.core.display.HTML object>"
      ]
     },
     "metadata": {},
     "output_type": "display_data"
    },
    {
     "data": {
      "application/javascript": [
       "if (typeof Jupyter !== \"undefined\") { window.__context = { glowscript_container: $(\"#glowscript\").removeAttr(\"id\")};}else{ element.textContent = ' ';}"
      ],
      "text/plain": [
       "<IPython.core.display.Javascript object>"
      ]
     },
     "metadata": {},
     "output_type": "display_data"
    }
   ],
   "source": [
    "visualize(run_ising_sim(50))"
   ]
  },
  {
   "cell_type": "markdown",
   "id": "6bed9b9b-45e8-44e9-8637-98ed55dddf55",
   "metadata": {},
   "source": [
    "## Analysis"
   ]
  },
  {
   "cell_type": "markdown",
   "id": "ce104854-2cf9-4283-a907-8e3f1e56adc4",
   "metadata": {},
   "source": [
    "### Fluctuation"
   ]
  },
  {
   "cell_type": "code",
   "execution_count": 32,
   "id": "2d23d6d9-e96e-44ba-9826-1e10b8295222",
   "metadata": {
    "execution": {
     "iopub.execute_input": "2025-07-01T12:04:04.617841Z",
     "iopub.status.busy": "2025-07-01T12:04:04.617841Z",
     "iopub.status.idle": "2025-07-01T12:04:04.991829Z",
     "shell.execute_reply": "2025-07-01T12:04:04.991829Z",
     "shell.execute_reply.started": "2025-07-01T12:04:04.617841Z"
    }
   },
   "outputs": [
    {
     "data": {
      "image/png": "[encoded data removed]",
      "text/plain": [
       "<Figure size 1000x400 with 1 Axes>"
      ]
     },
     "metadata": {},
     "output_type": "display_data"
    }
   ],
   "source": [
    "sim_low = run_ising_sim(1.0)\n",
    "sim_high = run_ising_sim(100.0)\n",
    "\n",
    "plt.figure(figsize=(10, 4))\n",
    "plt.plot(sim_low[:, -1], label='Low T = 1.0', color='cyan')\n",
    "plt.plot(sim_high[:, -1], label='High T = 100.0', color='red')\n",
    "plt.axvline(x=100, linestyle='--', color='gray', label='t = 100 (equilibrium cutoff)')\n",
    "plt.xlabel(\"Step\")\n",
    "plt.ylabel(\"Energy\")\n",
    "plt.title(\"Energy Over Time\")\n",
    "plt.legend()\n",
    "plt.grid(True)\n",
    "plt.tight_layout()\n",
    "plt.show()"
   ]
  },
  {
   "cell_type": "code",
   "execution_count": 36,
   "id": "ad6e00e7-38be-4eac-a8d5-5db23bd72a40",
   "metadata": {
    "execution": {
     "iopub.execute_input": "2025-07-01T12:04:56.331296Z",
     "iopub.status.busy": "2025-07-01T12:04:56.331296Z",
     "iopub.status.idle": "2025-07-01T12:04:57.674742Z",
     "shell.execute_reply": "2025-07-01T12:04:57.674555Z",
     "shell.execute_reply.started": "2025-07-01T12:04:56.331296Z"
    }
   },
   "outputs": [
    {
     "data": {
      "image/png": "[encoded data removed]",
      "text/plain": [
       "<Figure size 800x500 with 1 Axes>"
      ]
     },
     "metadata": {},
     "output_type": "display_data"
    }
   ],
   "source": [
    "temperatures = list(range(0, 101, 10))\n",
    "equilibrium_cutoff = 100\n",
    "runs_per_temp = 5\n",
    "\n",
    "avg_variances = []\n",
    "\n",
    "for T in temperatures:\n",
    "    if T == 0:\n",
    "        avg_variances.append(0)\n",
    "        continue\n",
    "    \n",
    "    variances = []\n",
    "    for _ in range(runs_per_temp):\n",
    "        sim = run_ising_sim(T)\n",
    "        post_eq_energy = sim[equilibrium_cutoff:, -1]\n",
    "        var = np.var(post_eq_energy)\n",
    "        variances.append(var)\n",
    "\n",
    "    avg_variances.append(np.mean(variances))\n",
    "\n",
    "plt.figure(figsize=(8, 5))\n",
    "plt.plot(temperatures, avg_variances, marker='o')\n",
    "plt.xlabel(\"Temperature\")\n",
    "plt.ylabel(\"Energy Fluctuation (Variance)\")\n",
    "plt.title(\"Post-Equilibrium Energy Fluctuation vs Temperature\")\n",
    "plt.grid(True)\n",
    "plt.tight_layout()\n",
    "plt.show()"
   ]
  },
  {
   "cell_type": "markdown",
   "id": "f82daa0b-6267-41cf-8e8f-f09900c12143",
   "metadata": {},
   "source": [
    "### Domain Count"
   ]
  },
  {
   "cell_type": "code",
   "execution_count": 43,
   "id": "fc62912b-af05-4161-a022-104c2d48bda8",
   "metadata": {
    "execution": {
     "iopub.execute_input": "2025-07-01T12:15:52.486292Z",
     "iopub.status.busy": "2025-07-01T12:15:52.486292Z",
     "iopub.status.idle": "2025-07-01T12:15:52.917461Z",
     "shell.execute_reply": "2025-07-01T12:15:52.916966Z",
     "shell.execute_reply.started": "2025-07-01T12:15:52.486292Z"
    }
   },
   "outputs": [
    {
     "name": "stdout",
     "output_type": "stream",
     "text": [
      "Temperature: 1.0\n",
      "  Avg Energy:        -23.20\n",
      "  Avg Domain Count:  4.2\n",
      "  Avg Domain Size:   8.00\n",
      "\n",
      "Temperature: 100.0\n",
      "  Avg Energy:        1.20\n",
      "  Avg Domain Count:  16.2\n",
      "  Avg Domain Size:   1.95\n",
      "\n"
     ]
    }
   ],
   "source": [
    "def count_domains(config):\n",
    "    return np.sum(config[1:] != config[:-1]) + 1\n",
    "\n",
    "temperatures = [1.0, 100.0]\n",
    "runs_per_temp = 10\n",
    "\n",
    "summary_data = {}\n",
    "\n",
    "for T in temperatures:\n",
    "    energies = []\n",
    "    domain_counts = []\n",
    "    domain_sizes = []\n",
    "\n",
    "    for _ in range(runs_per_temp):\n",
    "        sim = run_ising_sim(T)\n",
    "        final_config = sim[-1, :-1]\n",
    "        final_energy = sim[-1, -1]\n",
    "        domains = count_domains(final_config)\n",
    "        size = N / domains\n",
    "\n",
    "        energies.append(final_energy)\n",
    "        domain_counts.append(domains)\n",
    "        domain_sizes.append(size)\n",
    "\n",
    "    summary_data[T] = {\n",
    "        \"avg_energy\": np.mean(energies),\n",
    "        \"avg_domain_count\": np.mean(domain_counts),\n",
    "        \"avg_domain_size\": np.mean(domain_sizes)\n",
    "    }\n",
    "\n",
    "for T in summary_data:\n",
    "    print(f\"Temperature: {T}\")\n",
    "    print(f\"  Avg Energy:        {summary_data[T]['avg_energy']:.2f}\")\n",
    "    print(f\"  Avg Domain Count:  {summary_data[T]['avg_domain_count']:.1f}\")\n",
    "    print(f\"  Avg Domain Size:   {summary_data[T]['avg_domain_size']:.2f}\")\n",
    "    print()"
   ]
  },
  {
   "cell_type": "markdown",
   "id": "6fa709ea-e60a-43de-8c78-9a9aab1d90cd",
   "metadata": {},
   "source": [
    "### Domain Size"
   ]
  },
  {
   "cell_type": "code",
   "execution_count": 39,
   "id": "6cd4e20a-9756-4f12-9249-f9a080dd428e",
   "metadata": {
    "execution": {
     "iopub.execute_input": "2025-07-01T12:12:16.556995Z",
     "iopub.status.busy": "2025-07-01T12:12:16.556995Z",
     "iopub.status.idle": "2025-07-01T12:12:18.752189Z",
     "shell.execute_reply": "2025-07-01T12:12:18.752189Z",
     "shell.execute_reply.started": "2025-07-01T12:12:16.556995Z"
    }
   },
   "outputs": [
    {
     "data": {
      "image/png": "[encoded data removed]",
      "text/plain": [
       "<Figure size 800x500 with 1 Axes>"
      ]
     },
     "metadata": {},
     "output_type": "display_data"
    }
   ],
   "source": [
    "temps = np.linspace(0.5, 5.0, 10)\n",
    "runs_per_temp = 10\n",
    "avg_domain_sizes = []\n",
    "\n",
    "for T in temps:\n",
    "    domain_sizes = []\n",
    "    for _ in range(runs_per_temp):\n",
    "        sim = run_ising_sim(T)\n",
    "        final_config = sim[-1, :-1]\n",
    "        domain_count = np.sum(final_config[1:] != final_config[:-1]) + 1\n",
    "        domain_sizes.append(N / domain_count)\n",
    "    avg_domain_sizes.append(np.mean(domain_sizes))\n",
    "\n",
    "plt.figure(figsize=(8, 5))\n",
    "plt.plot(temps, avg_domain_sizes, marker='o')\n",
    "plt.xlabel(\"Temperature\")\n",
    "plt.ylabel(\"Average Domain Size (Final Config)\")\n",
    "plt.title(\"Domain Size vs Temperature\")\n",
    "plt.grid(True)\n",
    "plt.tight_layout()\n",
    "plt.show()"
   ]
  },
  {
   "cell_type": "code",
   "execution_count": null,
   "id": "f55f02c2-3f68-4d70-88f0-1ef93ffae58a",
   "metadata": {},
   "outputs": [],
   "source": []
  }
 ],
 "metadata": {
  "kernelspec": {
   "display_name": "Python 3 (ipykernel)",
   "language": "python",
   "name": "python3"
  },
  "language_info": {
   "codemirror_mode": {
    "name": "ipython",
    "version": 3
   },
   "file_extension": ".py",
   "mimetype": "text/x-python",
   "name": "python",
   "nbconvert_exporter": "python",
   "pygments_lexer": "ipython3",
   "version": "3.12.7"
  }
 },
 "nbformat": 4,
 "nbformat_minor": 5
}
