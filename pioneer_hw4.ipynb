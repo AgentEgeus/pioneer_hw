{
 "cells": [
  {
   "cell_type": "markdown",
   "id": "d0ee6be3-ba47-4819-ac1f-a2840e686ecb",
   "metadata": {},
   "source": [
    "Homework 4:\n",
    "\n",
    "Write a short (2 page) paper that introduces, solves, and discusses the results from these problems below.\n",
    "\n",
    "Start from the 1D and 2D Ising model programs we discussed in class\n",
    "\n",
    "https://colab.research.google.com/drive/1xUB48UpB4Z87yPl2hJ8-8p4wBsH2wKcN?usp=sharing \n",
    "\n",
    "https://colab.research.google.com/drive/1eNzGeLRa8N3uPA-N8Sd0rNSnNZLITNQI?usp=sharing \n",
    "\n",
    " - Do as much of 17.4.2 \"Equilibration, Thermodynamic Properties (Assessment)\" as you can"
   ]
  },
  {
   "cell_type": "markdown",
   "id": "842cca42-4623-43f2-ba08-d8127b7fe3bf",
   "metadata": {},
   "source": [
    "https://docs.google.com/document/d/1nn-2GkRX4fjEr5y_usLedcZbWkXo9FufTLlJKmo9WK8/edit?tab=t.iw19628hmo7s"
   ]
  },
  {
   "cell_type": "code",
   "execution_count": null,
   "id": "161ef77e-bb16-4271-8d9a-ea3402893394",
   "metadata": {},
   "outputs": [],
   "source": []
  },
  {
   "cell_type": "code",
   "execution_count": null,
   "id": "e194f839-c0df-4733-bf13-003cc4ab2913",
   "metadata": {},
   "outputs": [],
   "source": []
  },
  {
   "cell_type": "code",
   "execution_count": null,
   "id": "48c38955-0758-4a64-885a-5f25167f7c94",
   "metadata": {},
   "outputs": [],
   "source": []
  },
  {
   "cell_type": "code",
   "execution_count": 1,
   "id": "bc19a66d-b967-4001-b35d-4c1af2c5dd70",
   "metadata": {
    "execution": {
     "iopub.execute_input": "2025-07-01T06:21:44.965588Z",
     "iopub.status.busy": "2025-07-01T06:21:44.965113Z",
     "iopub.status.idle": "2025-07-01T06:21:53.971286Z",
     "shell.execute_reply": "2025-07-01T06:21:53.971286Z",
     "shell.execute_reply.started": "2025-07-01T06:21:44.965588Z"
    }
   },
   "outputs": [
    {
     "data": {
      "text/html": [
       "<div id=\"glowscript\" class=\"glowscript\"></div>"
      ],
      "text/plain": [
       "<IPython.core.display.HTML object>"
      ]
     },
     "metadata": {},
     "output_type": "display_data"
    },
    {
     "data": {
      "application/javascript": [
       "if (typeof Jupyter !== \"undefined\") { window.__context = { glowscript_container: $(\"#glowscript\").removeAttr(\"id\")};}else{ element.textContent = ' ';}"
      ],
      "text/plain": [
       "<IPython.core.display.Javascript object>"
      ]
     },
     "metadata": {},
     "output_type": "display_data"
    },
    {
     "data": {
      "text/html": [
       "<div id=\"glowscript\" class=\"glowscript\"></div>"
      ],
      "text/plain": [
       "<IPython.core.display.HTML object>"
      ]
     },
     "metadata": {},
     "output_type": "display_data"
    },
    {
     "data": {
      "application/javascript": [
       "if (typeof Jupyter !== \"undefined\") { window.__context = { glowscript_container: $(\"#glowscript\").removeAttr(\"id\")};}else{ element.textContent = ' ';}"
      ],
      "text/plain": [
       "<IPython.core.display.Javascript object>"
      ]
     },
     "metadata": {},
     "output_type": "display_data"
    }
   ],
   "source": [
    "from vpython import *\n",
    "import numpy as np\n",
    "import random\n",
    "import math\n",
    "\n",
    "# -----------------------------------\n",
    "# PARAMETERS\n",
    "# -----------------------------------\n",
    "N = 30\n",
    "steps = 300\n",
    "\n",
    "# -----------------------------------\n",
    "# ENERGY FUNCTION\n",
    "# -----------------------------------\n",
    "def calcEnergy(config):\n",
    "    energy = 0\n",
    "    for i in range(N):\n",
    "        S = config[0, i]\n",
    "        nb = config[0, (i + 1) % N] + config[0, (i - 1) % N]\n",
    "        energy += -nb * S\n",
    "    return energy / 2.0\n",
    "\n",
    "# -----------------------------------\n",
    "# RUN ONE SIMULATION WITH VPYTHON + HISTORY\n",
    "# -----------------------------------\n",
    "def run_simulation_with_visuals(T, y_offset, color_label):\n",
    "    beta = 1.0 / T\n",
    "    config = 2 * np.random.randint(1, size=(1, N)) - 1\n",
    "\n",
    "    # Create spin arrows\n",
    "    spin_arrows = []\n",
    "    for i in range(N):\n",
    "        arrow_obj = arrow(pos=vector(i - N / 2, y_offset, 0),\n",
    "                          axis=vector(0, config[0, i], 0),\n",
    "                          color=color.yellow if config[0, i] == 1 else color.white,\n",
    "                          shaftwidth=0.3)\n",
    "        spin_arrows.append(arrow_obj)\n",
    "\n",
    "    # Graph\n",
    "    graph(title=f\"Energy Over Time (T = {T})\", xtitle=\"Step\", ytitle=\"Energy\", fast=False, height=200, width=500)\n",
    "    energy_curve = gcurve(color=color_label)\n",
    "\n",
    "    # Track config + energy history\n",
    "    config_history = []\n",
    "    energy_history = []\n",
    "\n",
    "    E = calcEnergy(config)\n",
    "\n",
    "    for step in range(steps):\n",
    "        rate(120)\n",
    "        b = random.randint(0, N - 1)\n",
    "        s = config[0, b]\n",
    "        nb = config[0, (b + 1) % N] + config[0, (b - 1) % N]\n",
    "        cost = 2 * s * nb\n",
    "\n",
    "        if cost < 0 or random.random() < math.exp(-cost * beta):\n",
    "            config[0, b] *= -1\n",
    "            s = config[0, b]\n",
    "            E = calcEnergy(config)\n",
    "\n",
    "            # update arrow\n",
    "            spin_arrows[b].axis = vector(0, s, 0)\n",
    "            spin_arrows[b].color = color.yellow if s == 1 else color.white\n",
    "\n",
    "        config_history.append(config.copy())\n",
    "        energy_history.append(E)\n",
    "        energy_curve.plot(step, E)\n",
    "\n",
    "    return config_history, energy_history\n",
    "\n",
    "# -----------------------------------\n",
    "# RUN BOTH SIMULATIONS WITH VISUALS\n",
    "# -----------------------------------\n",
    "scene = canvas(title=\"Ising Model - High vs Low T\", width=600, height=400, background=color.black)\n",
    "highT_history, highT_energy = run_simulation_with_visuals(T=100.0, y_offset=2, color_label=color.red)\n",
    "lowT_history, lowT_energy = run_simulation_with_visuals(T=1.0, y_offset=-2, color_label=color.cyan)\n"
   ]
  },
  {
   "cell_type": "code",
   "execution_count": null,
   "id": "0b3fb9ef-ad25-41bc-ac0e-53c73b378298",
   "metadata": {},
   "outputs": [],
   "source": []
  },
  {
   "cell_type": "code",
   "execution_count": null,
   "id": "7a876e3d-9275-404a-9efa-c05f44f5586a",
   "metadata": {},
   "outputs": [],
   "source": []
  },
  {
   "cell_type": "code",
   "execution_count": 2,
   "id": "7e92a5b1-9b3c-499f-905b-1fe77516327b",
   "metadata": {
    "execution": {
     "iopub.execute_input": "2025-07-01T06:22:01.828941Z",
     "iopub.status.busy": "2025-07-01T06:22:01.828941Z",
     "iopub.status.idle": "2025-07-01T06:23:02.731246Z",
     "shell.execute_reply": "2025-07-01T06:23:02.731246Z",
     "shell.execute_reply.started": "2025-07-01T06:22:01.828941Z"
    },
    "scrolled": true
   },
   "outputs": [
    {
     "data": {
      "text/html": [
       "<div id=\"glowscript\" class=\"glowscript\"></div>"
      ],
      "text/plain": [
       "<IPython.core.display.HTML object>"
      ]
     },
     "metadata": {},
     "output_type": "display_data"
    },
    {
     "data": {
      "application/javascript": [
       "if (typeof Jupyter !== \"undefined\") { window.__context = { glowscript_container: $(\"#glowscript\").removeAttr(\"id\")};}else{ element.textContent = ' ';}"
      ],
      "text/plain": [
       "<IPython.core.display.Javascript object>"
      ]
     },
     "metadata": {},
     "output_type": "display_data"
    },
    {
     "data": {
      "text/plain": [
       "({'avg_domains': 2.6, 'avg_size': 17.2, 'avg_energy': -26.8},\n",
       " {'avg_domains': 14.7, 'avg_size': 2.114647542859617, 'avg_energy': -1.6})"
      ]
     },
     "execution_count": 2,
     "metadata": {},
     "output_type": "execute_result"
    }
   ],
   "source": [
    "# Final version to run simulations, show visuals once, and compute domain & energy stats\n",
    "\n",
    "def count_domains(config):\n",
    "    spins = config[0]\n",
    "    domains = 1\n",
    "    for i in range(1, len(spins)):\n",
    "        if spins[i] != spins[i - 1]:\n",
    "            domains += 1\n",
    "    return domains, len(spins) / domains\n",
    "\n",
    "# Run 10 times, show visual only once\n",
    "def batch_stats_with_visual_once(T, y_offset, color_label):\n",
    "    domain_counts = []\n",
    "    domain_sizes = []\n",
    "    energies = []\n",
    "\n",
    "    for i in range(10):\n",
    "        if i == 0:\n",
    "            config_history, energy_history = run_simulation_with_visuals(T=T, y_offset=y_offset, color_label=color_label)\n",
    "        else:\n",
    "            config_history, energy_history = run_simulation_with_visuals(T=T, y_offset=0, color_label=color.white)\n",
    "\n",
    "        final_config = config_history[-1]\n",
    "        final_energy = energy_history[-1]\n",
    "        domains, avg_size = count_domains(final_config)\n",
    "\n",
    "        domain_counts.append(domains)\n",
    "        domain_sizes.append(avg_size)\n",
    "        energies.append(final_energy)\n",
    "\n",
    "    return {\n",
    "        \"avg_domains\": np.mean(domain_counts),\n",
    "        \"avg_size\": np.mean(domain_sizes),\n",
    "        \"avg_energy\": np.mean(energies)\n",
    "    }\n",
    "\n",
    "# Example usage (run this after defining everything above)\n",
    "scene = canvas(title=\"Ising Model Summary - Batch Stats\", width=600, height=300, background=color.black)\n",
    "\n",
    "lowT_summary = batch_stats_with_visual_once(T=1.0, y_offset=2, color_label=color.cyan)\n",
    "highT_summary = batch_stats_with_visual_once(T=100.0, y_offset=-2, color_label=color.red)\n",
    "\n",
    "lowT_summary, highT_summary\n"
   ]
  },
  {
   "cell_type": "code",
   "execution_count": null,
   "id": "1cf19adb-7b7e-4d9e-b52c-82a5a791d863",
   "metadata": {},
   "outputs": [],
   "source": []
  },
  {
   "cell_type": "code",
   "execution_count": null,
   "id": "afe41878-56ce-4ae6-8309-1bd586eacec1",
   "metadata": {},
   "outputs": [],
   "source": []
  },
  {
   "cell_type": "code",
   "execution_count": null,
   "id": "f31f2ca6-a29e-40d3-ab7d-6a8952e2c50d",
   "metadata": {},
   "outputs": [],
   "source": [
    "\n",
    "({'avg_domains': 2.6, 'avg_size': 17.2, 'avg_energy': -26.8},\n",
    " {'avg_domains': 14.7, 'avg_size': 2.114647542859617, 'avg_energy': -1.6})"
   ]
  },
  {
   "cell_type": "code",
   "execution_count": 3,
   "id": "774c202b-5179-4743-a6b5-de862d59e46f",
   "metadata": {
    "execution": {
     "iopub.execute_input": "2025-07-01T06:24:03.995306Z",
     "iopub.status.busy": "2025-07-01T06:24:03.995306Z",
     "iopub.status.idle": "2025-07-01T06:29:09.615785Z",
     "shell.execute_reply": "2025-07-01T06:29:09.615785Z",
     "shell.execute_reply.started": "2025-07-01T06:24:03.995306Z"
    }
   },
   "outputs": [
    {
     "name": "stdout",
     "output_type": "stream",
     "text": [
      "Running T = 0.50\n",
      "Running T = 1.00\n",
      "Running T = 1.50\n",
      "Running T = 2.00\n",
      "Running T = 2.50\n",
      "Running T = 3.00\n",
      "Running T = 3.50\n",
      "Running T = 4.00\n",
      "Running T = 4.50\n",
      "Running T = 5.00\n"
     ]
    },
    {
     "data": {
      "image/png": "[encoded data removed]",
      "text/plain": [
       "<Figure size 700x500 with 1 Axes>"
      ]
     },
     "metadata": {},
     "output_type": "display_data"
    }
   ],
   "source": [
    "# Loop over multiple temperatures and plot average domain size vs. temperature\n",
    "import matplotlib.pyplot as plt\n",
    "\n",
    "# List of temperatures to try (adjustable)\n",
    "temperatures = np.linspace(0.5, 5.0, 10)\n",
    "avg_sizes = []\n",
    "\n",
    "# Only show visual for the first temperature\n",
    "for i, T in enumerate(temperatures):\n",
    "    print(f\"Running T = {T:.2f}\")\n",
    "    summary = batch_stats_with_visual_once(\n",
    "        T=T,\n",
    "        y_offset=2 if i == 0 else 0,\n",
    "        color_label=color.cyan if i == 0 else color.white\n",
    "    )\n",
    "    avg_sizes.append(summary[\"avg_size\"])\n",
    "\n",
    "# Plotting\n",
    "plt.figure(figsize=(7, 5))\n",
    "plt.plot(temperatures, avg_sizes, marker='o', linestyle='-')\n",
    "plt.xlabel(\"Temperature (T)\")\n",
    "plt.ylabel(\"Average Domain Size\")\n",
    "plt.title(\"Average Domain Size vs. Temperature\")\n",
    "plt.grid(True)\n",
    "plt.tight_layout()\n",
    "plt.show()"
   ]
  },
  {
   "cell_type": "code",
   "execution_count": null,
   "id": "adfab01d-6605-4b21-85c0-195c98135095",
   "metadata": {},
   "outputs": [],
   "source": []
  },
  {
   "cell_type": "code",
   "execution_count": null,
   "id": "77ca6631-b307-4480-8200-830ec9d1c95d",
   "metadata": {},
   "outputs": [],
   "source": []
  },
  {
   "cell_type": "code",
   "execution_count": null,
   "id": "33935943-abf4-4f63-8608-ded69c552d4e",
   "metadata": {},
   "outputs": [],
   "source": []
  }
 ],
 "metadata": {
  "kernelspec": {
   "display_name": "Python 3 (ipykernel)",
   "language": "python",
   "name": "python3"
  },
  "language_info": {
   "codemirror_mode": {
    "name": "ipython",
    "version": 3
   },
   "file_extension": ".py",
   "mimetype": "text/x-python",
   "name": "python",
   "nbconvert_exporter": "python",
   "pygments_lexer": "ipython3",
   "version": "3.12.7"
  }
 },
 "nbformat": 4,
 "nbformat_minor": 5
}
