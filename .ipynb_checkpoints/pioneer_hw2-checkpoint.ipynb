{
 "cells": [
  {
   "cell_type": "code",
   "execution_count": 2,
   "id": "681aeb00",
   "metadata": {
    "execution": {
     "iopub.execute_input": "2025-06-19T02:35:45.468053Z",
     "iopub.status.busy": "2025-06-19T02:35:45.466833Z",
     "iopub.status.idle": "2025-06-19T02:35:45.665894Z",
     "shell.execute_reply": "2025-06-19T02:35:45.665894Z",
     "shell.execute_reply.started": "2025-06-19T02:35:45.468053Z"
    }
   },
   "outputs": [],
   "source": [
    "import math\n",
    "import pandas\n",
    "import matplotlib\n",
    "import random"
   ]
  },
  {
   "cell_type": "code",
   "execution_count": 46,
   "id": "dc71dce0-90a6-4527-8146-da31a874e7f2",
   "metadata": {
    "execution": {
     "iopub.execute_input": "2025-06-19T02:47:39.270382Z",
     "iopub.status.busy": "2025-06-19T02:47:39.270382Z",
     "iopub.status.idle": "2025-06-19T02:47:39.472279Z",
     "shell.execute_reply": "2025-06-19T02:47:39.472279Z",
     "shell.execute_reply.started": "2025-06-19T02:47:39.270382Z"
    }
   },
   "outputs": [],
   "source": [
    "c = 0\n",
    "EPS = 10**-8\n",
    "n=0\n",
    "while True:\n",
    "    x = random.random()\n",
    "    y = random.random()\n",
    "    d = math.sqrt(x**2 + y**2)\n",
    "    c+=1 if d < 1 else 0\n",
    "    n+=1\n",
    "    if abs(((4*c/(n))-math.pi))<EPS:\n",
    "        break"
   ]
  },
  {
   "cell_type": "code",
   "execution_count": 47,
   "id": "15653f0b-2a0c-4a51-947b-533b1afc8a14",
   "metadata": {
    "execution": {
     "iopub.execute_input": "2025-06-19T02:47:40.122593Z",
     "iopub.status.busy": "2025-06-19T02:47:40.122593Z",
     "iopub.status.idle": "2025-06-19T02:47:40.128645Z",
     "shell.execute_reply": "2025-06-19T02:47:40.128645Z",
     "shell.execute_reply.started": "2025-06-19T02:47:40.122593Z"
    }
   },
   "outputs": [
    {
     "data": {
      "text/plain": [
       "(290347, 228038, 3.1415926460407717)"
      ]
     },
     "execution_count": 47,
     "metadata": {},
     "output_type": "execute_result"
    }
   ],
   "source": [
    "n,c,4*c/(n) # = print(a,b,c)"
   ]
  },
  {
   "cell_type": "code",
   "execution_count": null,
   "id": "c8178cf3-a53d-4f22-b44b-34517ece5b55",
   "metadata": {},
   "outputs": [],
   "source": []
  }
 ],
 "metadata": {
  "kernelspec": {
   "display_name": "Python 3 (ipykernel)",
   "language": "python",
   "name": "python3"
  },
  "language_info": {
   "codemirror_mode": {
    "name": "ipython",
    "version": 3
   },
   "file_extension": ".py",
   "mimetype": "text/x-python",
   "name": "python",
   "nbconvert_exporter": "python",
   "pygments_lexer": "ipython3",
   "version": "3.12.7"
  }
 },
 "nbformat": 4,
 "nbformat_minor": 5
}
