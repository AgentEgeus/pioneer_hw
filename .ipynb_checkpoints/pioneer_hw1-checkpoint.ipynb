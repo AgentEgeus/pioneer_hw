{
 "cells": [
  {
   "cell_type": "code",
   "execution_count": null,
   "id": "95f9ba62-5cc5-43d8-9973-cf024e35e1ef",
   "metadata": {},
   "outputs": [],
   "source": [
    "#Do somthing"
   ]
  },
  {
   "cell_type": "code",
   "execution_count": 1,
   "id": "7d7afc40-0825-408b-b648-2e8c85f63cae",
   "metadata": {
    "execution": {
     "iopub.execute_input": "2025-06-19T00:37:17.041518Z",
     "iopub.status.busy": "2025-06-19T00:37:17.041518Z",
     "iopub.status.idle": "2025-06-19T00:37:17.047927Z",
     "shell.execute_reply": "2025-06-19T00:37:17.047419Z",
     "shell.execute_reply.started": "2025-06-19T00:37:17.041518Z"
    }
   },
   "outputs": [
    {
     "name": "stdout",
     "output_type": "stream",
     "text": [
      "hello world\n"
     ]
    }
   ],
   "source": [
    "print(\"hello world\")"
   ]
  },
  {
   "cell_type": "code",
   "execution_count": 1,
   "id": "7ab2c60b-582c-464b-b209-60013b60abf0",
   "metadata": {
    "execution": {
     "iopub.execute_input": "2025-06-19T00:49:58.147796Z",
     "iopub.status.busy": "2025-06-19T00:49:58.146229Z",
     "iopub.status.idle": "2025-06-19T00:49:58.151609Z",
     "shell.execute_reply": "2025-06-19T00:49:58.150536Z",
     "shell.execute_reply.started": "2025-06-19T00:49:58.147796Z"
    }
   },
   "outputs": [],
   "source": [
    "import math"
   ]
  },
  {
   "cell_type": "code",
   "execution_count": 2,
   "id": "c18a6f67-ac62-4c7a-8526-9761c99e99dd",
   "metadata": {
    "execution": {
     "iopub.execute_input": "2025-06-19T00:50:01.533902Z",
     "iopub.status.busy": "2025-06-19T00:50:01.533462Z",
     "iopub.status.idle": "2025-06-19T00:50:01.539098Z",
     "shell.execute_reply": "2025-06-19T00:50:01.538281Z",
     "shell.execute_reply.started": "2025-06-19T00:50:01.533902Z"
    }
   },
   "outputs": [],
   "source": [
    "EPS = 10**(-8)\n",
    "\n",
    "def calc_coef(x,n):\n",
    "    if n==1:\n",
    "        return 1\n",
    "    else:\n",
    "        return (-1)*x*x/(2*n-1)/(2*n-2)\n",
    "\n",
    "def get_sin(x):\n",
    "    if x == 0:\n",
    "        return 0\n",
    "        \n",
    "    term = x\n",
    "    n = 2\n",
    "    ret = x\n",
    "    while abs(term/ret) >= EPS:\n",
    "        term = calc_coef(x,n) * term\n",
    "        ret = ret + term\n",
    "        n+=1\n",
    "    return ret"
   ]
  },
  {
   "cell_type": "code",
   "execution_count": 3,
   "id": "4184c2a4-8485-4ffa-8cc0-b6d939f6b783",
   "metadata": {
    "execution": {
     "iopub.execute_input": "2025-06-19T00:50:04.856901Z",
     "iopub.status.busy": "2025-06-19T00:50:04.856423Z",
     "iopub.status.idle": "2025-06-19T00:50:04.860017Z",
     "shell.execute_reply": "2025-06-19T00:50:04.860017Z",
     "shell.execute_reply.started": "2025-06-19T00:50:04.856901Z"
    }
   },
   "outputs": [],
   "source": [
    "test_input, test_exp = 0,0\n",
    "assert abs(test_exp-get_sin(test_input)) < EPS\n",
    "\n",
    "test_input, test_exp = 1,0.8414709848\n",
    "assert abs(test_exp-get_sin(test_input)) < EPS\n",
    "\n",
    "test_input, test_exp = math.pi,0\n",
    "assert abs(test_exp-get_sin(test_input)) < EPS\n",
    "\n",
    "test_input, test_exp = math.pi/2,1\n",
    "assert abs(test_exp-get_sin(test_input)) < EPS\n",
    "\n",
    "test_input, test_exp = 1,math.sin(1)\n",
    "assert abs(test_exp-get_sin(test_input)) < EPS"
   ]
  },
  {
   "cell_type": "code",
   "execution_count": null,
   "id": "33ea40d9-31f0-43e7-8005-bf1778122a2b",
   "metadata": {},
   "outputs": [],
   "source": []
  }
 ],
 "metadata": {
  "kernelspec": {
   "display_name": "Python 3 (ipykernel)",
   "language": "python",
   "name": "python3"
  },
  "language_info": {
   "codemirror_mode": {
    "name": "ipython",
    "version": 3
   },
   "file_extension": ".py",
   "mimetype": "text/x-python",
   "name": "python",
   "nbconvert_exporter": "python",
   "pygments_lexer": "ipython3",
   "version": "3.12.7"
  }
 },
 "nbformat": 4,
 "nbformat_minor": 5
}
