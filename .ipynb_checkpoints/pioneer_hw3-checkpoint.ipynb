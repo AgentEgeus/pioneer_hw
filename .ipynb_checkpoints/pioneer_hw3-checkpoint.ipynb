{
 "cells": [
  {
   "cell_type": "code",
   "execution_count": 2,
   "id": "ac5e8b06-4f54-4897-bf5c-4e42febd3912",
   "metadata": {
    "execution": {
     "iopub.execute_input": "2025-06-28T14:51:00.036691Z",
     "iopub.status.busy": "2025-06-28T14:51:00.036691Z",
     "iopub.status.idle": "2025-06-28T14:51:00.043715Z",
     "shell.execute_reply": "2025-06-28T14:51:00.043209Z",
     "shell.execute_reply.started": "2025-06-28T14:51:00.036691Z"
    }
   },
   "outputs": [],
   "source": [
    "import numpy as np\n",
    "import math\n",
    "import matplotlib.pyplot as plt\n",
    "from scipy.integrate import odeint"
   ]
  },
  {
   "cell_type": "code",
   "execution_count": 3,
   "id": "a750341c-6919-4c87-874c-b05785b65c28",
   "metadata": {
    "execution": {
     "iopub.execute_input": "2025-06-28T14:51:00.575595Z",
     "iopub.status.busy": "2025-06-28T14:51:00.575595Z",
     "iopub.status.idle": "2025-06-28T14:51:00.582091Z",
     "shell.execute_reply": "2025-06-28T14:51:00.582091Z",
     "shell.execute_reply.started": "2025-06-28T14:51:00.575595Z"
    }
   },
   "outputs": [],
   "source": [
    "def f(t, y):\n",
    "    return -2 * y"
   ]
  },
  {
   "cell_type": "code",
   "execution_count": 4,
   "id": "6cc384a4-cad6-4f6e-baf3-dccc80316238",
   "metadata": {
    "execution": {
     "iopub.execute_input": "2025-06-28T14:51:01.028687Z",
     "iopub.status.busy": "2025-06-28T14:51:01.028687Z",
     "iopub.status.idle": "2025-06-28T14:51:01.034554Z",
     "shell.execute_reply": "2025-06-28T14:51:01.034554Z",
     "shell.execute_reply.started": "2025-06-28T14:51:01.028687Z"
    }
   },
   "outputs": [],
   "source": [
    "def rk2(f, y0, t):\n",
    "    y = np.zeros(len(t))\n",
    "    y[0] = y0\n",
    "    h = t[1] - t[0]\n",
    "\n",
    "    for i in range(0, len(t) - 1):\n",
    "        k1 = h * f(t[i], y[i])\n",
    "        k2 = h * f(t[i] + h / 2, y[i] + k1 / 2)\n",
    "        y[i + 1] = y[i] + k2\n",
    "    return y"
   ]
  },
  {
   "cell_type": "code",
   "execution_count": 5,
   "id": "c1f79830-71c8-4107-89f0-52c3ff510f13",
   "metadata": {
    "execution": {
     "iopub.execute_input": "2025-06-28T14:51:01.712437Z",
     "iopub.status.busy": "2025-06-28T14:51:01.712437Z",
     "iopub.status.idle": "2025-06-28T14:51:02.188781Z",
     "shell.execute_reply": "2025-06-28T14:51:02.188781Z",
     "shell.execute_reply.started": "2025-06-28T14:51:01.712437Z"
    }
   },
   "outputs": [
    {
     "ename": "NameError",
     "evalue": "name 't' is not defined",
     "output_type": "error",
     "traceback": [
      "\u001b[1;31m---------------------------------------------------------------------------\u001b[0m",
      "\u001b[1;31mNameError\u001b[0m                                 Traceback (most recent call last)",
      "Cell \u001b[1;32mIn[5], line 1\u001b[0m\n\u001b[1;32m----> 1\u001b[0m y \u001b[38;5;241m=\u001b[39m np\u001b[38;5;241m.\u001b[39mzeros(\u001b[38;5;28mlen\u001b[39m(t))\n",
      "\u001b[1;31mNameError\u001b[0m: name 't' is not defined"
     ]
    }
   ],
   "source": [
    "y = np.zeros(len(t))"
   ]
  },
  {
   "cell_type": "code",
   "execution_count": null,
   "id": "9ce53b5b-066b-42de-ab26-c09fbea02035",
   "metadata": {},
   "outputs": [],
   "source": []
  },
  {
   "cell_type": "code",
   "execution_count": null,
   "id": "4026355a-430f-41f3-bba6-eee4c4e98cd6",
   "metadata": {},
   "outputs": [],
   "source": []
  },
  {
   "cell_type": "code",
   "execution_count": null,
   "id": "65a0bae6-4218-462b-b757-14ef7993befb",
   "metadata": {},
   "outputs": [],
   "source": []
  },
  {
   "cell_type": "code",
   "execution_count": null,
   "id": "8bd7fe31-239d-43eb-afae-4c7f099f63e7",
   "metadata": {},
   "outputs": [],
   "source": []
  },
  {
   "cell_type": "code",
   "execution_count": null,
   "id": "53a3f40f-b4ba-499f-8178-2ffaa508ff75",
   "metadata": {},
   "outputs": [],
   "source": []
  },
  {
   "cell_type": "code",
   "execution_count": null,
   "id": "76bc7751-e264-40d0-9123-9b4f6dcdb9a9",
   "metadata": {},
   "outputs": [],
   "source": []
  },
  {
   "cell_type": "code",
   "execution_count": null,
   "id": "7b473288-f832-4137-addf-29a83c7795e3",
   "metadata": {},
   "outputs": [],
   "source": []
  },
  {
   "cell_type": "code",
   "execution_count": null,
   "id": "b4ef1d7e-69c7-4962-8241-c0729abd91b4",
   "metadata": {},
   "outputs": [],
   "source": []
  }
 ],
 "metadata": {
  "kernelspec": {
   "display_name": "Python 3 (ipykernel)",
   "language": "python",
   "name": "python3"
  },
  "language_info": {
   "codemirror_mode": {
    "name": "ipython",
    "version": 3
   },
   "file_extension": ".py",
   "mimetype": "text/x-python",
   "name": "python",
   "nbconvert_exporter": "python",
   "pygments_lexer": "ipython3",
   "version": "3.12.7"
  }
 },
 "nbformat": 4,
 "nbformat_minor": 5
}
