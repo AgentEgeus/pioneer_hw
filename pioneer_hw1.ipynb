{
 "cells": [
  {
   "cell_type": "code",
   "execution_count": 1,
   "id": "7d7afc40-0825-408b-b648-2e8c85f63cae",
   "metadata": {
    "execution": {
     "iopub.execute_input": "2025-06-19T00:37:17.041518Z",
     "iopub.status.busy": "2025-06-19T00:37:17.041518Z",
     "iopub.status.idle": "2025-06-19T00:37:17.047927Z",
     "shell.execute_reply": "2025-06-19T00:37:17.047419Z",
     "shell.execute_reply.started": "2025-06-19T00:37:17.041518Z"
    }
   },
   "outputs": [
    {
     "name": "stdout",
     "output_type": "stream",
     "text": [
      "hello world\n"
     ]
    }
   ],
   "source": [
    "print(\"hello world\")"
   ]
  },
  {
   "cell_type": "code",
   "execution_count": null,
   "id": "7ab2c60b-582c-464b-b209-60013b60abf0",
   "metadata": {},
   "outputs": [],
   "source": []
  }
 ],
 "metadata": {
  "kernelspec": {
   "display_name": "Python 3 (ipykernel)",
   "language": "python",
   "name": "python3"
  },
  "language_info": {
   "codemirror_mode": {
    "name": "ipython",
    "version": 3
   },
   "file_extension": ".py",
   "mimetype": "text/x-python",
   "name": "python",
   "nbconvert_exporter": "python",
   "pygments_lexer": "ipython3",
   "version": "3.12.7"
  }
 },
 "nbformat": 4,
 "nbformat_minor": 5
}
